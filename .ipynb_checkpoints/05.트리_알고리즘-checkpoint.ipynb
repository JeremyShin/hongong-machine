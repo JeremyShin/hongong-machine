{
 "cells": [
  {
   "cell_type": "markdown",
   "id": "0cb0b3e6-d7d7-4ad9-bd92-86a083723498",
   "metadata": {},
   "source": [
    "# 05-1 결정 트리\n",
    "##### 결정 트리 알고리즘을 사용해 새로운 분류 문제를 다루어 봅니다. 결정 트리가 머신러닝 문제를 어떻게 해결하는지 이해합니다.\n",
    "\n",
    "- 와인캔 판매, 레드 와인과 화이트 와인 표시 누락\n",
    "- 알코올 도수, 당도, pH 값으로 분류 모델 사용\n",
    "\n",
    "- 로지스틱 회귀 모델 적용\n",
    "\n",
    "### 로지스틱 회귀로 와인 분류하기"
   ]
  },
  {
   "cell_type": "code",
   "execution_count": 1,
   "id": "cff189e9-0fc0-4857-a01f-bc18915b0c31",
   "metadata": {},
   "outputs": [],
   "source": [
    "import pandas as pd\n",
    "wine = pd.read_csv('https://bit.ly/wine_csv_data')"
   ]
  },
  {
   "cell_type": "code",
   "execution_count": 2,
   "id": "5467936c-c2d7-44fb-9c02-f5560c848802",
   "metadata": {},
   "outputs": [
    {
     "data": {
      "text/html": [
       "<div>\n",
       "<style scoped>\n",
       "    .dataframe tbody tr th:only-of-type {\n",
       "        vertical-align: middle;\n",
       "    }\n",
       "\n",
       "    .dataframe tbody tr th {\n",
       "        vertical-align: top;\n",
       "    }\n",
       "\n",
       "    .dataframe thead th {\n",
       "        text-align: right;\n",
       "    }\n",
       "</style>\n",
       "<table border=\"1\" class=\"dataframe\">\n",
       "  <thead>\n",
       "    <tr style=\"text-align: right;\">\n",
       "      <th></th>\n",
       "      <th>alcohol</th>\n",
       "      <th>sugar</th>\n",
       "      <th>pH</th>\n",
       "      <th>class</th>\n",
       "    </tr>\n",
       "  </thead>\n",
       "  <tbody>\n",
       "    <tr>\n",
       "      <th>0</th>\n",
       "      <td>9.4</td>\n",
       "      <td>1.9</td>\n",
       "      <td>3.51</td>\n",
       "      <td>0.0</td>\n",
       "    </tr>\n",
       "    <tr>\n",
       "      <th>1</th>\n",
       "      <td>9.8</td>\n",
       "      <td>2.6</td>\n",
       "      <td>3.20</td>\n",
       "      <td>0.0</td>\n",
       "    </tr>\n",
       "    <tr>\n",
       "      <th>2</th>\n",
       "      <td>9.8</td>\n",
       "      <td>2.3</td>\n",
       "      <td>3.26</td>\n",
       "      <td>0.0</td>\n",
       "    </tr>\n",
       "    <tr>\n",
       "      <th>3</th>\n",
       "      <td>9.8</td>\n",
       "      <td>1.9</td>\n",
       "      <td>3.16</td>\n",
       "      <td>0.0</td>\n",
       "    </tr>\n",
       "    <tr>\n",
       "      <th>4</th>\n",
       "      <td>9.4</td>\n",
       "      <td>1.9</td>\n",
       "      <td>3.51</td>\n",
       "      <td>0.0</td>\n",
       "    </tr>\n",
       "  </tbody>\n",
       "</table>\n",
       "</div>"
      ],
      "text/plain": [
       "   alcohol  sugar    pH  class\n",
       "0      9.4    1.9  3.51    0.0\n",
       "1      9.8    2.6  3.20    0.0\n",
       "2      9.8    2.3  3.26    0.0\n",
       "3      9.8    1.9  3.16    0.0\n",
       "4      9.4    1.9  3.51    0.0"
      ]
     },
     "execution_count": 2,
     "metadata": {},
     "output_type": "execute_result"
    }
   ],
   "source": [
    "wine.head()"
   ]
  },
  {
   "cell_type": "markdown",
   "id": "04f89ea5-872f-41b6-82c0-3cbed85c2116",
   "metadata": {},
   "source": [
    "- alchole : 알콜, suger : 당도, pH : pH, class : 타깃값(0:레드와인, 1:화이트와인)\n",
    "- 레드 / 화이트 와인을 맞추는 이진 분류 문제, (화이트 와인이 양성 클래스) : 전체 데이터에서 화이트 와인을 고르는 문제"
   ]
  },
  {
   "cell_type": "code",
   "execution_count": 4,
   "id": "76f1737f-ff5f-48dd-9e4b-15ff81689679",
   "metadata": {},
   "outputs": [
    {
     "name": "stdout",
     "output_type": "stream",
     "text": [
      "<class 'pandas.core.frame.DataFrame'>\n",
      "RangeIndex: 6497 entries, 0 to 6496\n",
      "Data columns (total 4 columns):\n",
      " #   Column   Non-Null Count  Dtype  \n",
      "---  ------   --------------  -----  \n",
      " 0   alcohol  6497 non-null   float64\n",
      " 1   sugar    6497 non-null   float64\n",
      " 2   pH       6497 non-null   float64\n",
      " 3   class    6497 non-null   float64\n",
      "dtypes: float64(4)\n",
      "memory usage: 203.2 KB\n"
     ]
    }
   ],
   "source": [
    "wine.info()\n",
    "# df 각 열의 데이터 타입과 누락 데이터가 있는지 확인"
   ]
  },
  {
   "cell_type": "markdown",
   "id": "000b0a20-d4d2-49b0-a91b-b99d362e4a3e",
   "metadata": {},
   "source": [
    "- 누락 값이 있을떄 : 데이터를 버리거나 평균값으로 채운 후 사용할 수 있음. 두 가지 방법 다 사용해서 예측값이 높아지는지 확인하는 것이 중요"
   ]
  },
  {
   "cell_type": "code",
   "execution_count": 6,
   "id": "76fb1347-4f8c-4e8c-a399-c4c260b19e4e",
   "metadata": {},
   "outputs": [
    {
     "data": {
      "text/html": [
       "<div>\n",
       "<style scoped>\n",
       "    .dataframe tbody tr th:only-of-type {\n",
       "        vertical-align: middle;\n",
       "    }\n",
       "\n",
       "    .dataframe tbody tr th {\n",
       "        vertical-align: top;\n",
       "    }\n",
       "\n",
       "    .dataframe thead th {\n",
       "        text-align: right;\n",
       "    }\n",
       "</style>\n",
       "<table border=\"1\" class=\"dataframe\">\n",
       "  <thead>\n",
       "    <tr style=\"text-align: right;\">\n",
       "      <th></th>\n",
       "      <th>alcohol</th>\n",
       "      <th>sugar</th>\n",
       "      <th>pH</th>\n",
       "      <th>class</th>\n",
       "    </tr>\n",
       "  </thead>\n",
       "  <tbody>\n",
       "    <tr>\n",
       "      <th>count</th>\n",
       "      <td>6497.000000</td>\n",
       "      <td>6497.000000</td>\n",
       "      <td>6497.000000</td>\n",
       "      <td>6497.000000</td>\n",
       "    </tr>\n",
       "    <tr>\n",
       "      <th>mean</th>\n",
       "      <td>10.491801</td>\n",
       "      <td>5.443235</td>\n",
       "      <td>3.218501</td>\n",
       "      <td>0.753886</td>\n",
       "    </tr>\n",
       "    <tr>\n",
       "      <th>std</th>\n",
       "      <td>1.192712</td>\n",
       "      <td>4.757804</td>\n",
       "      <td>0.160787</td>\n",
       "      <td>0.430779</td>\n",
       "    </tr>\n",
       "    <tr>\n",
       "      <th>min</th>\n",
       "      <td>8.000000</td>\n",
       "      <td>0.600000</td>\n",
       "      <td>2.720000</td>\n",
       "      <td>0.000000</td>\n",
       "    </tr>\n",
       "    <tr>\n",
       "      <th>25%</th>\n",
       "      <td>9.500000</td>\n",
       "      <td>1.800000</td>\n",
       "      <td>3.110000</td>\n",
       "      <td>1.000000</td>\n",
       "    </tr>\n",
       "    <tr>\n",
       "      <th>50%</th>\n",
       "      <td>10.300000</td>\n",
       "      <td>3.000000</td>\n",
       "      <td>3.210000</td>\n",
       "      <td>1.000000</td>\n",
       "    </tr>\n",
       "    <tr>\n",
       "      <th>75%</th>\n",
       "      <td>11.300000</td>\n",
       "      <td>8.100000</td>\n",
       "      <td>3.320000</td>\n",
       "      <td>1.000000</td>\n",
       "    </tr>\n",
       "    <tr>\n",
       "      <th>max</th>\n",
       "      <td>14.900000</td>\n",
       "      <td>65.800000</td>\n",
       "      <td>4.010000</td>\n",
       "      <td>1.000000</td>\n",
       "    </tr>\n",
       "  </tbody>\n",
       "</table>\n",
       "</div>"
      ],
      "text/plain": [
       "           alcohol        sugar           pH        class\n",
       "count  6497.000000  6497.000000  6497.000000  6497.000000\n",
       "mean     10.491801     5.443235     3.218501     0.753886\n",
       "std       1.192712     4.757804     0.160787     0.430779\n",
       "min       8.000000     0.600000     2.720000     0.000000\n",
       "25%       9.500000     1.800000     3.110000     1.000000\n",
       "50%      10.300000     3.000000     3.210000     1.000000\n",
       "75%      11.300000     8.100000     3.320000     1.000000\n",
       "max      14.900000    65.800000     4.010000     1.000000"
      ]
     },
     "execution_count": 6,
     "metadata": {},
     "output_type": "execute_result"
    }
   ],
   "source": [
    "wine.describe()\n",
    "# 평균, 표준편차, 최소, 최대값 확인, 중간값, 1사분위, 3사분위 확인"
   ]
  },
  {
   "cell_type": "code",
   "execution_count": 9,
   "id": "88c7637a-f198-4949-8f73-0941744bf21b",
   "metadata": {},
   "outputs": [],
   "source": [
    "data = wine[['alcohol', 'sugar', 'pH']].to_numpy()\n",
    "target = wine['class'].to_numpy()"
   ]
  },
  {
   "cell_type": "code",
   "execution_count": 10,
   "id": "6f0c9baa-5990-4371-b05c-75dc0d25403f",
   "metadata": {},
   "outputs": [],
   "source": [
    "from sklearn.model_selection import train_test_split\n",
    "train_input, test_input, train_target, test_target = train_test_split(data, target, test_size=0.2, random_state=42)"
   ]
  },
  {
   "cell_type": "markdown",
   "id": "2e823b43-e69e-4194-b6f5-cf54a3aea89e",
   "metadata": {},
   "source": [
    "- train_test_split() 함수는 설정값을 지정하지 않으면 25%를 테스트 세트로 지정\n",
    "- 샘플 개수가 충분히 많으므로 20% 정도만 테스트 세트로 나누었습니다. (코드의 test_size=0.2)\n",
    "- 훈련 세트와 테스트 세트 크기 확인"
   ]
  },
  {
   "cell_type": "code",
   "execution_count": 11,
   "id": "c0db4445-2b22-4565-8507-87854357e105",
   "metadata": {},
   "outputs": [
    {
     "name": "stdout",
     "output_type": "stream",
     "text": [
      "(5197, 3) (1300, 3)\n"
     ]
    }
   ],
   "source": [
    "print(train_input.shape, test_input.shape)"
   ]
  },
  {
   "cell_type": "markdown",
   "id": "48b30b80-ddea-485d-af96-d48f40892254",
   "metadata": {},
   "source": [
    "- 훈련 세트는 5197, 테스트 세트는 1300\n",
    "- 1. StandardScaler 클래스를 사용해 훈련 세트 전처리 진행\n",
    "- 2. 같은 객체를 그대로 사용해 테스트 세트를 변환"
   ]
  },
  {
   "cell_type": "code",
   "execution_count": 12,
   "id": "7771686a-b76c-426e-9a42-e90ca45bb00e",
   "metadata": {},
   "outputs": [],
   "source": [
    "from sklearn.preprocessing import StandardScaler\n",
    "ss = StandardScaler()\n",
    "ss.fit(train_input)\n",
    "train_scaled = ss.transform(train_input)\n",
    "test_scaled = ss.transform(test_input)"
   ]
  },
  {
   "cell_type": "markdown",
   "id": "2cc59912-5fd9-45e9-bf62-b4d611d3a4ac",
   "metadata": {},
   "source": [
    "- 이제 표준점수로 변환된 train_scale와 test_scaled를 사용해 로지스틱 회귀 모델을 훈련하겠습니다"
   ]
  },
  {
   "cell_type": "code",
   "execution_count": 13,
   "id": "b00acf83-7139-4242-a2db-d665e30e7309",
   "metadata": {},
   "outputs": [
    {
     "name": "stdout",
     "output_type": "stream",
     "text": [
      "0.7808350971714451\n",
      "0.7776923076923077\n"
     ]
    }
   ],
   "source": [
    "from sklearn.linear_model import LogisticRegression\n",
    "lr = LogisticRegression()\n",
    "lr.fit(train_scaled, train_target)\n",
    "print(lr.score(train_scaled, train_target))\n",
    "print(lr.score(test_scaled, test_target))"
   ]
  },
  {
   "cell_type": "markdown",
   "id": "214050c2-e627-4cea-a19b-632d6fb61ae3",
   "metadata": {},
   "source": [
    "- 점수가 높지 않음. 훈련 세트와 테스트 세트 점수가 모두 낮으니 모델이 과소적합으로 판단\n",
    "- 규제 매개변수 C의 값을 바꿔보자. 아니면 solver 매개변수에서 다른 알고리즘을 선택할 수도 있음. 또는 다항 특성을 만들어 추가도 가능\n",
    "\n",
    "### 설명하기 쉬운 모델과 어려운 모델\n",
    "- 보고서 만들기 위해 로지스틱 회귀가 학습한 계수와 절편 출력"
   ]
  },
  {
   "cell_type": "code",
   "execution_count": 14,
   "id": "7205e212-69f6-400a-a227-4b0b3687bd2d",
   "metadata": {},
   "outputs": [
    {
     "name": "stdout",
     "output_type": "stream",
     "text": [
      "[[ 0.51270274  1.6733911  -0.68767781]] [1.81777902]\n"
     ]
    }
   ],
   "source": [
    "print(lr.coef_, lr.intercept_)"
   ]
  },
  {
   "cell_type": "markdown",
   "id": "2d627899-8089-45c8-b472-e9c73b2a4f4d",
   "metadata": {},
   "source": [
    "- 계수값을 학습했는지 이해하기가 쉽지 않음\n",
    "- 알콜 도수와 당도가 높을수록 화이트 와인일 가능성이 높고, pH가 높을수록 레드 와인일 가능성이 높은 것으로 추정하지만\n",
    "- 이 숫자가 어떤 의미인지 설명하기 어려움, 다항 특성을 추가한다면 더 어려움\n",
    "- 대부분 머신러닝 모델은 결과를 설명하기 어려움\n",
    "- 어려운 설명은 종종 엔지니어를 신뢰하지 않는 결과로 이어짐\n",
    "- 쉬운 방법으로 설명할 수 있는 모델!? 결정트리\n",
    "\n",
    "## 결정 트리"
   ]
  }
 ],
 "metadata": {
  "kernelspec": {
   "display_name": "Python 3 (ipykernel)",
   "language": "python",
   "name": "python3"
  },
  "language_info": {
   "codemirror_mode": {
    "name": "ipython",
    "version": 3
   },
   "file_extension": ".py",
   "mimetype": "text/x-python",
   "name": "python",
   "nbconvert_exporter": "python",
   "pygments_lexer": "ipython3",
   "version": "3.11.3"
  }
 },
 "nbformat": 4,
 "nbformat_minor": 5
}
