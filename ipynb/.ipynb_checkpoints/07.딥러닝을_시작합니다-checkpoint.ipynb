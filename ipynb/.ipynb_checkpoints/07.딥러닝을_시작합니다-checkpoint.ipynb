{
 "cells": [
  {
   "cell_type": "markdown",
   "id": "909f0999-732e-4ac0-8321-21e56429bf77",
   "metadata": {},
   "source": [
    "# 07-1 인공 신경망\n",
    "##### 딥러닝과 인공 신경망 알고리즘을 이해하고 텐서플로를 사요해 간단한 인공 신경망 모델을 만들\n",
    "\n",
    "- 럭키팩 이벤트를 의류로 다시 적용하려함\n",
    "- 로지스틱 회귀 알고리즘 활용 예정\n",
    "\n",
    "### 패션 MNIST\n",
    "- 판맬할 패션 상품의 데이턴는 아직 없음. 한빛 마켓에서 판매할 상품과 똑같은 데이터를 구할 수 있었음\n",
    "- 7, 8장에서 패션 MNIST 데이터셋을 사용\n",
    "- 이 데이터 셋은 10종류의 패션 아이템으로 구성\n",
    "   - MNIST : 머신러닝에서 붓꽃 데이터셋이 유명한 것처럼 딥러닝에서는 MNIST 데이터셋이 유명\n",
    "- 텐서플로(TensorFlow)에서 라이브러리 제공\n",
    "  - 텐서플로 케라스(keras)패키지 임포트 후 패션 MNIST 데이터 다운로드"
   ]
  },
  {
   "cell_type": "code",
   "execution_count": 2,
   "id": "88229974-07a1-4c40-afe5-6058efe93aa5",
   "metadata": {},
   "outputs": [
    {
     "name": "stderr",
     "output_type": "stream",
     "text": [
      "2023-12-21 21:26:04.987700: I tensorflow/core/platform/cpu_feature_guard.cc:182] This TensorFlow binary is optimized to use available CPU instructions in performance-critical operations.\n",
      "To enable the following instructions: AVX2 AVX512F AVX512_VNNI FMA, in other operations, rebuild TensorFlow with the appropriate compiler flags.\n"
     ]
    },
    {
     "name": "stdout",
     "output_type": "stream",
     "text": [
      "Downloading data from https://storage.googleapis.com/tensorflow/tf-keras-datasets/train-labels-idx1-ubyte.gz\n",
      "29515/29515 [==============================] - 0s 0us/step\n",
      "Downloading data from https://storage.googleapis.com/tensorflow/tf-keras-datasets/train-images-idx3-ubyte.gz\n",
      "26421880/26421880 [==============================] - 3s 0us/step\n",
      "Downloading data from https://storage.googleapis.com/tensorflow/tf-keras-datasets/t10k-labels-idx1-ubyte.gz\n",
      "5148/5148 [==============================] - 0s 0us/step\n",
      "Downloading data from https://storage.googleapis.com/tensorflow/tf-keras-datasets/t10k-images-idx3-ubyte.gz\n",
      "4422102/4422102 [==============================] - 1s 0us/step\n"
     ]
    }
   ],
   "source": [
    "# !pip install tensorflow import keras\n",
    "from tensorflow import keras\n",
    "(train_input, train_target), (test_input, test_target) = keras.datasets.fashion_mnist.load_data()"
   ]
  },
  {
   "cell_type": "markdown",
   "id": "0839bb0a-f425-406e-a5af-9e673c370a5a",
   "metadata": {},
   "source": [
    "- keras.datasets.fashioin_mnist 모듈 아래 load_data() 함수는 훈련 데이터와 테스트 데이터를 나누어 반환\n",
    "- 이 데이터는 입력과 타깃의 쌍으로 구성됭 ㅓ있음"
   ]
  }
 ],
 "metadata": {
  "kernelspec": {
   "display_name": "Python 3 (ipykernel)",
   "language": "python",
   "name": "python3"
  },
  "language_info": {
   "codemirror_mode": {
    "name": "ipython",
    "version": 3
   },
   "file_extension": ".py",
   "mimetype": "text/x-python",
   "name": "python",
   "nbconvert_exporter": "python",
   "pygments_lexer": "ipython3",
   "version": "3.11.3"
  }
 },
 "nbformat": 4,
 "nbformat_minor": 5
}
