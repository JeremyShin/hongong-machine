{
 "cells": [
  {
   "cell_type": "markdown",
   "id": "22652379-09fb-4047-80b0-6a66c4fac615",
   "metadata": {},
   "source": [
    "# 08-2 합성곱 신경망을 사용한 이미지 분류\n",
    "##### 케라스 API를 사용해 합성곱 신경망 모델을 만들어 패션 MNIST이미지를 분류하는 방법을 배웁니다.\n",
    "\n",
    "- 앞서 합성곱, 필터, 패딩, 스트라이드, 풀링 등을 익힘\n",
    "- 텐서플로를 사용하면 합성곱, 패딩, 풀링 크기를 직접 계산할 필요 없음\n",
    "- 복잡한 계산은 케라스 API에 위임하고 사용자는 직관적으로 신경망 설계 가능\n"
   ]
  }
 ],
 "metadata": {
  "kernelspec": {
   "display_name": "Python 3 (ipykernel)",
   "language": "python",
   "name": "python3"
  },
  "language_info": {
   "codemirror_mode": {
    "name": "ipython",
    "version": 3
   },
   "file_extension": ".py",
   "mimetype": "text/x-python",
   "name": "python",
   "nbconvert_exporter": "python",
   "pygments_lexer": "ipython3",
   "version": "3.11.3"
  }
 },
 "nbformat": 4,
 "nbformat_minor": 5
}
