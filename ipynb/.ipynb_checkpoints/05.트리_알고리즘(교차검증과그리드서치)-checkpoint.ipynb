{
 "cells": [
  {
   "cell_type": "markdown",
   "id": "fe933d81-cf05-4280-a445-9853f31f2c65",
   "metadata": {},
   "source": [
    "# 05-2 교차 검증과 그리드 서치\n",
    "##### 검증 세트가 필요한 이유를 이해하고 교차 검즈에 대해 배웁니다. 그리드 서치와 랜덤 서치를 이용해 최적 성능을 내는 하이퍼파라미터를 찾습니다.\n",
    "\n",
    "### 검증 세트\n",
    "- 테스트 세트를 사용하지 않고 과적합을 판단하기 위한 방법은 데이터를 한 번 더 나누는 것\n",
    "- 이를 검증 세트(validation set)이라고 부름\n",
    "- 훈련 세트에서 20%를 뗴어 내어 검증 세트로 만듬 (보통 20~30%를 테스트 세트와 검증 세트로 떼어놓음. 하지만 훈련 데이터가 아주 많다면 단 몇 %만 떼어 놓아도 전체 데이터를 대표하는 데 문제가 없음\n",
    "\n",
    "- 훈련 세트에서 모델을 훈련하고 검증 세트로 모델을 평가\n",
    "- 테스트 하고 싶은 매개변수를 바꿔가며 가장 좋은 모델을 고름\n",
    "- 매개변수를 사용해 훈련 세트와 검증 세트를 합쳐 전체 훈련 데이터에서 모델을 다시 훈련\n",
    "- 마지막에 테스트 세트에서 최종 점수를 평가"
   ]
  },
  {
   "cell_type": "code",
   "execution_count": 2,
   "id": "75cb6315-9719-46e9-8fcc-174b4008bf8d",
   "metadata": {},
   "outputs": [],
   "source": [
    "import pandas as pd\n",
    "wine = pd.read_csv('https://bit.ly/wine_csv_data')"
   ]
  },
  {
   "cell_type": "markdown",
   "id": "fc9bd7b0-7d9d-46d3-8428-ad99cd603247",
   "metadata": {},
   "source": [
    "- class 열을 타깃으로 사용하고 나머지 열은 특성 배열에 저장"
   ]
  },
  {
   "cell_type": "code",
   "execution_count": 3,
   "id": "73852ccc-11ea-465e-98a3-8f62540db5cd",
   "metadata": {},
   "outputs": [],
   "source": [
    "data = wine[['alcohol', 'sugar', 'pH']].to_numpy()\n",
    "target = wine['class'].to_numpy()"
   ]
  },
  {
   "cell_type": "markdown",
   "id": "ad2877d4-55da-4c80-ba9a-1368d687ea02",
   "metadata": {},
   "source": [
    "- 훈련 세트와 테스트 세트를 나눌 차례 (방식은 이전과 동일)\n",
    "- 훈련 세트의 입력 데이터와 타깃 데이터를 train_input과 train_target 배열에 저장"
   ]
  },
  {
   "cell_type": "code",
   "execution_count": 4,
   "id": "2912b331-1ef7-4ee9-b891-1dd953656660",
   "metadata": {},
   "outputs": [],
   "source": [
    "from sklearn.model_selection import train_test_split\n",
    "train_input, test_input, train_target, test_target = train_test_split(data, target, test_size=0.2, random_state=42)"
   ]
  },
  {
   "cell_type": "markdown",
   "id": "667079d4-d99f-4390-a076-bb2eb8bcecfb",
   "metadata": {},
   "source": [
    "- train_input, train_target을 다시 train_test_split() 함수에 넣어 훈련 세트 sub_input, sub_target과 검증 세트 val_input, val_target을 만들어보자\n",
    "- 여기서도 test_size 매개변수를 0.2로 지정"
   ]
  },
  {
   "cell_type": "code",
   "execution_count": 5,
   "id": "0a01cf9f-f095-46f6-a531-e8329f4268fc",
   "metadata": {},
   "outputs": [],
   "source": [
    "sub_input, val_input, sub_target, val_target = train_test_split(train_input, train_target, test_size=0.2, random_state=42)"
   ]
  },
  {
   "cell_type": "markdown",
   "id": "4e57d40a-6432-4eaf-a0f2-8b254176d5da",
   "metadata": {},
   "source": [
    "- 훈련 세트와 검증 세트의 크기 확인"
   ]
  },
  {
   "cell_type": "code",
   "execution_count": 6,
   "id": "83263134-8689-4f20-bd93-8b778c1cb48f",
   "metadata": {},
   "outputs": [
    {
     "name": "stdout",
     "output_type": "stream",
     "text": [
      "(4157, 3) (1040, 3)\n"
     ]
    }
   ],
   "source": [
    "print(sub_input.shape, val_input.shape)"
   ]
  },
  {
   "cell_type": "markdown",
   "id": "95b065d3-5d88-476c-9768-d44726f83abf",
   "metadata": {},
   "source": [
    "- sub_input, sub_target과 val_input, val_target을 사용해 모델을 만들고 평가"
   ]
  },
  {
   "cell_type": "code",
   "execution_count": 7,
   "id": "79bcb9d1-b7c6-4c59-a7f5-12577c1410c7",
   "metadata": {},
   "outputs": [
    {
     "name": "stdout",
     "output_type": "stream",
     "text": [
      "0.9971133028626413\n",
      "0.864423076923077\n"
     ]
    }
   ],
   "source": [
    "from sklearn.tree import DecisionTreeClassifier\n",
    "dt = DecisionTreeClassifier(random_state=42)\n",
    "dt.fit(sub_input, sub_target)\n",
    "print(dt.score(sub_input, sub_target))\n",
    "print(dt.score(val_input, val_target))"
   ]
  },
  {
   "cell_type": "markdown",
   "id": "e684f552-f2cc-4829-8925-ba7c40002acc",
   "metadata": {},
   "source": [
    "- 모델은 훈련 세트에 과대적합되어 있음\n",
    "- 매개변수를 바꿔서 더 좋은 모델을 찾아야 함\n",
    "\n",
    "### 교차 검증\n",
    "- 안정적인 검증 점수를 얻고 훈련에 더 많은 데이터를 사용 가능함\n",
    "- 검증 세트를 떼어 내어 평가하는 과정을 여러 번 반복하는 것, 이후 점수를 평균하여 최종 검증 점수를 얻음\n",
    "- 보통 5-폴드 교차 검증, 10-폴드 교차 검증을 많이 사용\n",
    "- 각 폴드에서 계산한 검증 점수를 평균하기 때문에 안정된 점수로 생각할 수 있음\n",
    "\n",
    "- 사이킷런에는 cross_validate()라는 교차 검증 함수가 있음 (cross_val_score() 함수도 있음. test_score 값만 반환)"
   ]
  },
  {
   "cell_type": "code",
   "execution_count": 8,
   "id": "7a453e05-ba18-4f1c-ac42-3c2525e4f18b",
   "metadata": {},
   "outputs": [
    {
     "name": "stdout",
     "output_type": "stream",
     "text": [
      "{'fit_time': array([0.0098331 , 0.00942492, 0.00767112, 0.0068872 , 0.00590014]), 'score_time': array([0.00123286, 0.00192618, 0.00090194, 0.00079083, 0.00103974]), 'test_score': array([0.86923077, 0.84615385, 0.87680462, 0.84889317, 0.83541867])}\n"
     ]
    }
   ],
   "source": [
    "from sklearn.model_selection import cross_validate\n",
    "scores = cross_validate(dt, train_input, train_target)\n",
    "print(scores)"
   ]
  },
  {
   "cell_type": "markdown",
   "id": "120f55ad-4412-4351-9546-3e5c3d9bf4e1",
   "metadata": {},
   "source": [
    "- 위 함수는 fit_time, score_time, test_score 키를 가진 딕셔너리를 반환\n",
    "- 처음 2개의 키는 각각 모델을 훈련하는 시간과 검증하는 시간을 의미\n",
    "- 각 키마다 5개의 숫자가 담겨 있습니다.\n",
    "  - cross_validate() 함수는 기본적으로 5-폴드 교차 검증을 수행\n",
    "  - cv 매개변수에서 폴드 수를 바꿀 수도 있음\n",
    "- 훈련과 검증 시간은 코랩에서 리소스를 사용하는 상황에 따라 달라질 수 있으므로 fit_time과 score_time 세트는 출력 결과가 책과 다를 수 있음\n",
    "- 교차 검증의 최종 점수는 test_score 키에 담긴 5개의 점수를 평균하여 얻을 수 있음\n",
    "- 이름은 test_score지만 검증 폴드의 점수이니 혼동하지 말 것"
   ]
  },
  {
   "cell_type": "code",
   "execution_count": 10,
   "id": "c546f7ec-d32b-4951-85de-e94e3eaceb21",
   "metadata": {},
   "outputs": [
    {
     "name": "stdout",
     "output_type": "stream",
     "text": [
      "0.855300214703487\n"
     ]
    }
   ],
   "source": [
    "import numpy as np\n",
    "print(np.mean(scores['test_score']))"
   ]
  },
  {
   "cell_type": "markdown",
   "id": "08fb3c2a-da91-4f96-88a6-0578c52c2c46",
   "metadata": {},
   "source": [
    "- 교차 검증으로 입력 모델에서 얻을 수 있는 최상의 검증 점수를 가늠해볼 수 있음\n",
    "- 주의할 점\n",
    "  - cross_validate()는 훈련 세트를 섞어 폴드를 나누지 않음\n",
    "  - 앞서 train_test_split() 함수로 전체 데이터를 섞은 후 훈련 세트를 준비했기 때문에 따로 섞을 필요가 없음\n",
    "  - 하지만 교차 검증을 할 때 훈련 세트를 섞으려면 분할기(splitter)를 지정해야 함\n",
    "\n",
    "- 사이킷런 분할기\n",
    "  - 교차 검증에서 폴드를 어떻게 나눌지 결정해줌\n",
    "  - cross_valicate()함수\n",
    "    - 회귀 모델일 경우 KFlod 분할기를 사용\n",
    "    - 분류 모델일 경우 StratifiedKFlod 사용 (타깃 클래스를 골고루 나누기 위함\n",
    "\n",
    "- 앞서 수행항 교차 검증"
   ]
  },
  {
   "cell_type": "code",
   "execution_count": 11,
   "id": "3ca913d5-bbe5-44a1-9c72-94c59df0aa54",
   "metadata": {},
   "outputs": [
    {
     "name": "stdout",
     "output_type": "stream",
     "text": [
      "0.855300214703487\n"
     ]
    }
   ],
   "source": [
    "from sklearn.model_selection import StratifiedKFold\n",
    "scores = cross_validate(dt, train_input, train_target, cv=StratifiedKFold())\n",
    "print(np.mean(scores['test_score']))"
   ]
  },
  {
   "cell_type": "markdown",
   "id": "9a24ec3d-85f6-460d-b31e-183b6a6fd824",
   "metadata": {},
   "source": [
    "- 훈련 세트를 섞은 후 10-폴드 교차 검증을 수행하려면 다음과 같이 작성"
   ]
  },
  {
   "cell_type": "code",
   "execution_count": 12,
   "id": "32c63703-dcfe-416d-af72-407afecb9c50",
   "metadata": {},
   "outputs": [
    {
     "name": "stdout",
     "output_type": "stream",
     "text": [
      "0.8574181117533719\n"
     ]
    }
   ],
   "source": [
    "splitter = StratifiedKFold(n_splits=10, shuffle=True, random_state=42)\n",
    "scores = cross_validate(dt, train_input, train_target, cv=splitter)\n",
    "print(np.mean(scores['test_score']))"
   ]
  },
  {
   "cell_type": "markdown",
   "id": "f9980ed1-8d00-475f-898d-991992bf78aa",
   "metadata": {},
   "source": [
    "- KFold 클래스도 동일한 방식으로 사용\n",
    "- 이어서 결정 트리의 매개변수 값을 바꿔가며 가장 좋은 성능이 나오는 모델을 찾아봅니다.\n",
    "- 테스트 세트를 사용하지 않고 교차 검증을 통해서 좋은 모델을 골라보자\n",
    "\n",
    "### 하이퍼파라미터 튜닝\n",
    "- 모델 파라미터 : 머신러닝이 학습하는 파라미터\n",
    "- 하이퍼 파라미터 : 사용자가 지정해주는 파라미터\n",
    "- 사이킷런에서는 모두 클래스나 메서드의 매개변수로 표현됨\n",
    "\n",
    "- 라이브러리가 제공하는 기본값을 그대로 사용해 모델을 훈련\n",
    "- 검증 세트의 점수나 교차 검증을 통해 매개변수를 조금 바꿔봄 -> 모델마다 적게는 1~2개, 많게는 5~6개의 매개변수를 제공. 매개변수를 바꿔가며 모델 훈련 및 교차 검증 수행\n",
    "- AutoML : 사람 개입 없는 하이퍼파라미터튜닝하는 기술\n",
    "\n",
    "- max_depth값, min_samples_split 매개변수를 동시에 바꿔야 최적값을 찾을 수 있음\n",
    "- 매개변수가 많아지면 문제는 더 복잡해짐\n",
    "- 이런 문제를 해결하기 위해 사이킷런에서는 그리드 서치(Grid Search)를 사용함\n",
    "\n",
    "- GridSearchCV는 하이퍼파라미터 탐색과 교차 검증을 한 번에 수행하므로 별도의 cross_validate() 함수를 호출할 필요 없음\n",
    "- 매개변수를 사용한 결정 트리 모델에서 min_impurity_decrease 매개변수의 최적값을 찾아보자\n",
    "  - GridSearchCV 클래스를 임포트하고 탐색할 매개변수와 탐색할 값의 리스트를 딕셔너리로 만듬"
   ]
  },
  {
   "cell_type": "code",
   "execution_count": 13,
   "id": "6e87697a-c617-45a4-bf23-f04afaa078a5",
   "metadata": {},
   "outputs": [],
   "source": [
    "from sklearn.model_selection import GridSearchCV\n",
    "\n",
    "# 0.0001~0.0005까지 0.0001씩 증가하는 5개의 값을 시도\n",
    "params = {'min_impurity_decrease': [0.0001, 0.0002, 0.0003, 0.0004, 0.0005]}\n",
    "\n",
    "# GridSearchCV 클래스에 탐색 대상 모델과 params 변수를 전달하여 그리드 서치 객체를 만들어보자\n",
    "gs = GridSearchCV(DecisionTreeClassifier(random_state=42), params, n_jobs=-1)"
   ]
  },
  {
   "cell_type": "markdown",
   "id": "cc098293-185b-4296-bb24-2480e8bdb752",
   "metadata": {},
   "source": [
    "- 이 다음 일반 모델을 훈련하는 것처럼 gs 객체에 fit() 메서드를 호출\n",
    "- 이 메서드를 호출하면 그리드 서치 객체는 결정 트리 모델 min_impurity_decrease 값을 바꿔가며 총 5번 실행\n",
    "\n",
    "- GridSearchCV의 cv 매개변수 기본값은 5입니다.\n",
    "- min_impurity_decrease 값마다 5-폴드 교차 검증을 수행\n",
    "- 결국 5 X 5 = 25개의 모델을 훈련!\n",
    "- 많은 모델을 훈련하기 때문에 GridSearchCV 클래스의 n_jobs 매개변수에서 병렬 실행에 사용할 CPU 코어 수를 지정하는 것이 좋음.\n",
    "- 이 매개변수의 기본값은 1. -1로 지정하면 시스템에 있는 모든 코어를 사용함\n",
    "- 그리드 서치 수행해보자"
   ]
  },
  {
   "cell_type": "code",
   "execution_count": 14,
   "id": "aeeca853-1505-4a31-acf4-f4a3cdd78506",
   "metadata": {},
   "outputs": [
    {
     "data": {
      "text/html": [
       "<style>#sk-container-id-1 {color: black;}#sk-container-id-1 pre{padding: 0;}#sk-container-id-1 div.sk-toggleable {background-color: white;}#sk-container-id-1 label.sk-toggleable__label {cursor: pointer;display: block;width: 100%;margin-bottom: 0;padding: 0.3em;box-sizing: border-box;text-align: center;}#sk-container-id-1 label.sk-toggleable__label-arrow:before {content: \"▸\";float: left;margin-right: 0.25em;color: #696969;}#sk-container-id-1 label.sk-toggleable__label-arrow:hover:before {color: black;}#sk-container-id-1 div.sk-estimator:hover label.sk-toggleable__label-arrow:before {color: black;}#sk-container-id-1 div.sk-toggleable__content {max-height: 0;max-width: 0;overflow: hidden;text-align: left;background-color: #f0f8ff;}#sk-container-id-1 div.sk-toggleable__content pre {margin: 0.2em;color: black;border-radius: 0.25em;background-color: #f0f8ff;}#sk-container-id-1 input.sk-toggleable__control:checked~div.sk-toggleable__content {max-height: 200px;max-width: 100%;overflow: auto;}#sk-container-id-1 input.sk-toggleable__control:checked~label.sk-toggleable__label-arrow:before {content: \"▾\";}#sk-container-id-1 div.sk-estimator input.sk-toggleable__control:checked~label.sk-toggleable__label {background-color: #d4ebff;}#sk-container-id-1 div.sk-label input.sk-toggleable__control:checked~label.sk-toggleable__label {background-color: #d4ebff;}#sk-container-id-1 input.sk-hidden--visually {border: 0;clip: rect(1px 1px 1px 1px);clip: rect(1px, 1px, 1px, 1px);height: 1px;margin: -1px;overflow: hidden;padding: 0;position: absolute;width: 1px;}#sk-container-id-1 div.sk-estimator {font-family: monospace;background-color: #f0f8ff;border: 1px dotted black;border-radius: 0.25em;box-sizing: border-box;margin-bottom: 0.5em;}#sk-container-id-1 div.sk-estimator:hover {background-color: #d4ebff;}#sk-container-id-1 div.sk-parallel-item::after {content: \"\";width: 100%;border-bottom: 1px solid gray;flex-grow: 1;}#sk-container-id-1 div.sk-label:hover label.sk-toggleable__label {background-color: #d4ebff;}#sk-container-id-1 div.sk-serial::before {content: \"\";position: absolute;border-left: 1px solid gray;box-sizing: border-box;top: 0;bottom: 0;left: 50%;z-index: 0;}#sk-container-id-1 div.sk-serial {display: flex;flex-direction: column;align-items: center;background-color: white;padding-right: 0.2em;padding-left: 0.2em;position: relative;}#sk-container-id-1 div.sk-item {position: relative;z-index: 1;}#sk-container-id-1 div.sk-parallel {display: flex;align-items: stretch;justify-content: center;background-color: white;position: relative;}#sk-container-id-1 div.sk-item::before, #sk-container-id-1 div.sk-parallel-item::before {content: \"\";position: absolute;border-left: 1px solid gray;box-sizing: border-box;top: 0;bottom: 0;left: 50%;z-index: -1;}#sk-container-id-1 div.sk-parallel-item {display: flex;flex-direction: column;z-index: 1;position: relative;background-color: white;}#sk-container-id-1 div.sk-parallel-item:first-child::after {align-self: flex-end;width: 50%;}#sk-container-id-1 div.sk-parallel-item:last-child::after {align-self: flex-start;width: 50%;}#sk-container-id-1 div.sk-parallel-item:only-child::after {width: 0;}#sk-container-id-1 div.sk-dashed-wrapped {border: 1px dashed gray;margin: 0 0.4em 0.5em 0.4em;box-sizing: border-box;padding-bottom: 0.4em;background-color: white;}#sk-container-id-1 div.sk-label label {font-family: monospace;font-weight: bold;display: inline-block;line-height: 1.2em;}#sk-container-id-1 div.sk-label-container {text-align: center;}#sk-container-id-1 div.sk-container {/* jupyter's `normalize.less` sets `[hidden] { display: none; }` but bootstrap.min.css set `[hidden] { display: none !important; }` so we also need the `!important` here to be able to override the default hidden behavior on the sphinx rendered scikit-learn.org. See: https://github.com/scikit-learn/scikit-learn/issues/21755 */display: inline-block !important;position: relative;}#sk-container-id-1 div.sk-text-repr-fallback {display: none;}</style><div id=\"sk-container-id-1\" class=\"sk-top-container\"><div class=\"sk-text-repr-fallback\"><pre>GridSearchCV(estimator=DecisionTreeClassifier(random_state=42), n_jobs=-1,\n",
       "             param_grid={&#x27;min_impurity_decrease&#x27;: [0.0001, 0.0002, 0.0003,\n",
       "                                                   0.0004, 0.0005]})</pre><b>In a Jupyter environment, please rerun this cell to show the HTML representation or trust the notebook. <br />On GitHub, the HTML representation is unable to render, please try loading this page with nbviewer.org.</b></div><div class=\"sk-container\" hidden><div class=\"sk-item sk-dashed-wrapped\"><div class=\"sk-label-container\"><div class=\"sk-label sk-toggleable\"><input class=\"sk-toggleable__control sk-hidden--visually\" id=\"sk-estimator-id-1\" type=\"checkbox\" ><label for=\"sk-estimator-id-1\" class=\"sk-toggleable__label sk-toggleable__label-arrow\">GridSearchCV</label><div class=\"sk-toggleable__content\"><pre>GridSearchCV(estimator=DecisionTreeClassifier(random_state=42), n_jobs=-1,\n",
       "             param_grid={&#x27;min_impurity_decrease&#x27;: [0.0001, 0.0002, 0.0003,\n",
       "                                                   0.0004, 0.0005]})</pre></div></div></div><div class=\"sk-parallel\"><div class=\"sk-parallel-item\"><div class=\"sk-item\"><div class=\"sk-label-container\"><div class=\"sk-label sk-toggleable\"><input class=\"sk-toggleable__control sk-hidden--visually\" id=\"sk-estimator-id-2\" type=\"checkbox\" ><label for=\"sk-estimator-id-2\" class=\"sk-toggleable__label sk-toggleable__label-arrow\">estimator: DecisionTreeClassifier</label><div class=\"sk-toggleable__content\"><pre>DecisionTreeClassifier(random_state=42)</pre></div></div></div><div class=\"sk-serial\"><div class=\"sk-item\"><div class=\"sk-estimator sk-toggleable\"><input class=\"sk-toggleable__control sk-hidden--visually\" id=\"sk-estimator-id-3\" type=\"checkbox\" ><label for=\"sk-estimator-id-3\" class=\"sk-toggleable__label sk-toggleable__label-arrow\">DecisionTreeClassifier</label><div class=\"sk-toggleable__content\"><pre>DecisionTreeClassifier(random_state=42)</pre></div></div></div></div></div></div></div></div></div></div>"
      ],
      "text/plain": [
       "GridSearchCV(estimator=DecisionTreeClassifier(random_state=42), n_jobs=-1,\n",
       "             param_grid={'min_impurity_decrease': [0.0001, 0.0002, 0.0003,\n",
       "                                                   0.0004, 0.0005]})"
      ]
     },
     "execution_count": 14,
     "metadata": {},
     "output_type": "execute_result"
    }
   ],
   "source": [
    "gs.fit(train_input, train_target)"
   ]
  },
  {
   "cell_type": "markdown",
   "id": "c90aed24-8921-4310-a40a-b841f2a5f74f",
   "metadata": {},
   "source": [
    "- 교차 검증에서 최적 하이퍼파라미터를 찾으면 전체 훈련 세트로 모델을 다시 만들어야 함\n",
    "- 사이킷런의 그리드 서치는 훈련이 끝나면 25개 모델 중 검증 점수가 가장 높은 모델의 매개변수 조합으로 전체 훈련 세트에서 자동으로 다시 모델을 훈련\n",
    "- 이 모델은 gs 객체의 best_estimator_ 속성에 저장되어 있음\n",
    "- 이 모델을 일반 결정 트리처럼 똑같이 사용"
   ]
  },
  {
   "cell_type": "code",
   "execution_count": 15,
   "id": "2df686bc-cbce-459e-89d5-fb3237cd494c",
   "metadata": {},
   "outputs": [
    {
     "name": "stdout",
     "output_type": "stream",
     "text": [
      "0.9615162593804117\n"
     ]
    }
   ],
   "source": [
    "dt = gs.best_estimator_\n",
    "print(dt.score(train_input, train_target))"
   ]
  },
  {
   "cell_type": "markdown",
   "id": "c2a761fe-31d8-4e11-8def-81e9774d702b",
   "metadata": {},
   "source": [
    "- 그리드 서치로 찾은 최적 매개변수는 best_params_ 속성에 저장되어 있음"
   ]
  },
  {
   "cell_type": "code",
   "execution_count": 16,
   "id": "4c4857e4-78e2-440e-ae9c-f8e8ceaac1fe",
   "metadata": {},
   "outputs": [
    {
     "name": "stdout",
     "output_type": "stream",
     "text": [
      "{'min_impurity_decrease': 0.0001}\n"
     ]
    }
   ],
   "source": [
    "print(gs.best_params_)"
   ]
  },
  {
   "cell_type": "markdown",
   "id": "ff7a9545-b9ae-43cf-a01e-8444aefef06a",
   "metadata": {},
   "source": [
    "- 여기서는 0.0001이 가장 좋은 값으로 선택됨\n",
    "- 각 매개변수에서 수행한 교차 검증의 평균 점수는 cv_result_ 속성의 'mean_test_score' 키에 저장되어 있음"
   ]
  },
  {
   "cell_type": "code",
   "execution_count": 17,
   "id": "9ef9423b-556c-4887-96df-b00d70761015",
   "metadata": {},
   "outputs": [
    {
     "name": "stdout",
     "output_type": "stream",
     "text": [
      "[0.86819297 0.86453617 0.86492226 0.86780891 0.86761605]\n"
     ]
    }
   ],
   "source": [
    "print(gs.cv_results_['mean_test_score'])"
   ]
  },
  {
   "cell_type": "markdown",
   "id": "df494908-f75c-4efd-8878-d069a1c81fe3",
   "metadata": {},
   "source": [
    "- 첫 번째 값이 가장 큰 것을 확인\n",
    "- 넘파이 argmax() 함수 사용하면 큰 값의 인덱스 추출 가능"
   ]
  },
  {
   "cell_type": "code",
   "execution_count": 18,
   "id": "e7d219c7-05fa-4a6b-bc36-36039cd218df",
   "metadata": {},
   "outputs": [
    {
     "name": "stdout",
     "output_type": "stream",
     "text": [
      "{'min_impurity_decrease': 0.0001}\n"
     ]
    }
   ],
   "source": [
    "best_index = np.argmax(gs.cv_results_['mean_test_score'])\n",
    "print(gs.cv_results_['params'][best_index])"
   ]
  },
  {
   "cell_type": "markdown",
   "id": "367b31ac-fd4d-4e81-baa4-8da1136fe480",
   "metadata": {},
   "source": [
    "- 과정을 정리하면 아래와 같음\n",
    "  1. 탐색할 매개변수를 지정\n",
    "  2. 훈련 세트에서 그리드 서치를 수행하여 최상의 평균 검증 점수가 나오는 매개변수 조합을 찾음\n",
    "  3. 그리드 서치는 최상의 매개변수에서 (교차 검증에 사용한 훈련 세트가 아니라) 전체 훈련 세트를 사용해 최종 모델을 훈련 (이 모델도 그리드 서치 객체에 저장)\n",
    "\n",
    "- 조금 더 복잡한 매개변수 조합을 탐색해보자\n",
    "  - min_impurity_decrease는 노드를 분할하기 위한 불순도 최소 감소량을 지정\n",
    "  - max_depth로 트리 깊이를 제한하고 min_samples_split으로 노드를 나누기 위한 최소 샘플 수도 골라보자"
   ]
  },
  {
   "cell_type": "code",
   "execution_count": 20,
   "id": "4878d58c-225b-406e-8ce3-578544c78bb1",
   "metadata": {},
   "outputs": [],
   "source": [
    "params = {'min_impurity_decrease': np.arange(0.0001, 0.001, 0.0001), \n",
    "          'max_depth': range(5, 20, 1),\n",
    "          'min_samples_split': range(2, 100, 10)\n",
    "         }"
   ]
  },
  {
   "cell_type": "markdown",
   "id": "08c5ec7d-e110-483c-9803-ad165a743e9b",
   "metadata": {},
   "source": [
    "- 넘파이 arange() 함수는 첫 번째 매개변수 값에서 시작하여 두 번째 매개변수 값에 도달할 때까지 세 번쨰 매개변수 값을 더 하는 배열을 만듦\n",
    "- 파이썬 range() 함수도 5에서 20까지 1씩 증가하는 값을 만듦 (정수만 사용 가능)\n",
    "\n",
    "- 이 매개변수로 수행할 교차 검증 횟수는  9 X 15 X 10 = 1,350개\n",
    "- 기본 5-폴드 교차 검증을 수행하므로 만들어지는 모델의 수는 6,750개. n_jobs = -1로 설정하고 그리드 서치 실행"
   ]
  },
  {
   "cell_type": "code",
   "execution_count": 21,
   "id": "375aec07-b9ac-423d-9912-171669a654a9",
   "metadata": {},
   "outputs": [
    {
     "data": {
      "text/html": [
       "<style>#sk-container-id-2 {color: black;}#sk-container-id-2 pre{padding: 0;}#sk-container-id-2 div.sk-toggleable {background-color: white;}#sk-container-id-2 label.sk-toggleable__label {cursor: pointer;display: block;width: 100%;margin-bottom: 0;padding: 0.3em;box-sizing: border-box;text-align: center;}#sk-container-id-2 label.sk-toggleable__label-arrow:before {content: \"▸\";float: left;margin-right: 0.25em;color: #696969;}#sk-container-id-2 label.sk-toggleable__label-arrow:hover:before {color: black;}#sk-container-id-2 div.sk-estimator:hover label.sk-toggleable__label-arrow:before {color: black;}#sk-container-id-2 div.sk-toggleable__content {max-height: 0;max-width: 0;overflow: hidden;text-align: left;background-color: #f0f8ff;}#sk-container-id-2 div.sk-toggleable__content pre {margin: 0.2em;color: black;border-radius: 0.25em;background-color: #f0f8ff;}#sk-container-id-2 input.sk-toggleable__control:checked~div.sk-toggleable__content {max-height: 200px;max-width: 100%;overflow: auto;}#sk-container-id-2 input.sk-toggleable__control:checked~label.sk-toggleable__label-arrow:before {content: \"▾\";}#sk-container-id-2 div.sk-estimator input.sk-toggleable__control:checked~label.sk-toggleable__label {background-color: #d4ebff;}#sk-container-id-2 div.sk-label input.sk-toggleable__control:checked~label.sk-toggleable__label {background-color: #d4ebff;}#sk-container-id-2 input.sk-hidden--visually {border: 0;clip: rect(1px 1px 1px 1px);clip: rect(1px, 1px, 1px, 1px);height: 1px;margin: -1px;overflow: hidden;padding: 0;position: absolute;width: 1px;}#sk-container-id-2 div.sk-estimator {font-family: monospace;background-color: #f0f8ff;border: 1px dotted black;border-radius: 0.25em;box-sizing: border-box;margin-bottom: 0.5em;}#sk-container-id-2 div.sk-estimator:hover {background-color: #d4ebff;}#sk-container-id-2 div.sk-parallel-item::after {content: \"\";width: 100%;border-bottom: 1px solid gray;flex-grow: 1;}#sk-container-id-2 div.sk-label:hover label.sk-toggleable__label {background-color: #d4ebff;}#sk-container-id-2 div.sk-serial::before {content: \"\";position: absolute;border-left: 1px solid gray;box-sizing: border-box;top: 0;bottom: 0;left: 50%;z-index: 0;}#sk-container-id-2 div.sk-serial {display: flex;flex-direction: column;align-items: center;background-color: white;padding-right: 0.2em;padding-left: 0.2em;position: relative;}#sk-container-id-2 div.sk-item {position: relative;z-index: 1;}#sk-container-id-2 div.sk-parallel {display: flex;align-items: stretch;justify-content: center;background-color: white;position: relative;}#sk-container-id-2 div.sk-item::before, #sk-container-id-2 div.sk-parallel-item::before {content: \"\";position: absolute;border-left: 1px solid gray;box-sizing: border-box;top: 0;bottom: 0;left: 50%;z-index: -1;}#sk-container-id-2 div.sk-parallel-item {display: flex;flex-direction: column;z-index: 1;position: relative;background-color: white;}#sk-container-id-2 div.sk-parallel-item:first-child::after {align-self: flex-end;width: 50%;}#sk-container-id-2 div.sk-parallel-item:last-child::after {align-self: flex-start;width: 50%;}#sk-container-id-2 div.sk-parallel-item:only-child::after {width: 0;}#sk-container-id-2 div.sk-dashed-wrapped {border: 1px dashed gray;margin: 0 0.4em 0.5em 0.4em;box-sizing: border-box;padding-bottom: 0.4em;background-color: white;}#sk-container-id-2 div.sk-label label {font-family: monospace;font-weight: bold;display: inline-block;line-height: 1.2em;}#sk-container-id-2 div.sk-label-container {text-align: center;}#sk-container-id-2 div.sk-container {/* jupyter's `normalize.less` sets `[hidden] { display: none; }` but bootstrap.min.css set `[hidden] { display: none !important; }` so we also need the `!important` here to be able to override the default hidden behavior on the sphinx rendered scikit-learn.org. See: https://github.com/scikit-learn/scikit-learn/issues/21755 */display: inline-block !important;position: relative;}#sk-container-id-2 div.sk-text-repr-fallback {display: none;}</style><div id=\"sk-container-id-2\" class=\"sk-top-container\"><div class=\"sk-text-repr-fallback\"><pre>GridSearchCV(estimator=DecisionTreeClassifier(random_state=42), n_jobs=-1,\n",
       "             param_grid={&#x27;max_depth&#x27;: range(5, 20),\n",
       "                         &#x27;min_impurity_decrease&#x27;: array([0.0001, 0.0002, 0.0003, 0.0004, 0.0005, 0.0006, 0.0007, 0.0008,\n",
       "       0.0009]),\n",
       "                         &#x27;min_samples_split&#x27;: range(2, 100, 10)})</pre><b>In a Jupyter environment, please rerun this cell to show the HTML representation or trust the notebook. <br />On GitHub, the HTML representation is unable to render, please try loading this page with nbviewer.org.</b></div><div class=\"sk-container\" hidden><div class=\"sk-item sk-dashed-wrapped\"><div class=\"sk-label-container\"><div class=\"sk-label sk-toggleable\"><input class=\"sk-toggleable__control sk-hidden--visually\" id=\"sk-estimator-id-4\" type=\"checkbox\" ><label for=\"sk-estimator-id-4\" class=\"sk-toggleable__label sk-toggleable__label-arrow\">GridSearchCV</label><div class=\"sk-toggleable__content\"><pre>GridSearchCV(estimator=DecisionTreeClassifier(random_state=42), n_jobs=-1,\n",
       "             param_grid={&#x27;max_depth&#x27;: range(5, 20),\n",
       "                         &#x27;min_impurity_decrease&#x27;: array([0.0001, 0.0002, 0.0003, 0.0004, 0.0005, 0.0006, 0.0007, 0.0008,\n",
       "       0.0009]),\n",
       "                         &#x27;min_samples_split&#x27;: range(2, 100, 10)})</pre></div></div></div><div class=\"sk-parallel\"><div class=\"sk-parallel-item\"><div class=\"sk-item\"><div class=\"sk-label-container\"><div class=\"sk-label sk-toggleable\"><input class=\"sk-toggleable__control sk-hidden--visually\" id=\"sk-estimator-id-5\" type=\"checkbox\" ><label for=\"sk-estimator-id-5\" class=\"sk-toggleable__label sk-toggleable__label-arrow\">estimator: DecisionTreeClassifier</label><div class=\"sk-toggleable__content\"><pre>DecisionTreeClassifier(random_state=42)</pre></div></div></div><div class=\"sk-serial\"><div class=\"sk-item\"><div class=\"sk-estimator sk-toggleable\"><input class=\"sk-toggleable__control sk-hidden--visually\" id=\"sk-estimator-id-6\" type=\"checkbox\" ><label for=\"sk-estimator-id-6\" class=\"sk-toggleable__label sk-toggleable__label-arrow\">DecisionTreeClassifier</label><div class=\"sk-toggleable__content\"><pre>DecisionTreeClassifier(random_state=42)</pre></div></div></div></div></div></div></div></div></div></div>"
      ],
      "text/plain": [
       "GridSearchCV(estimator=DecisionTreeClassifier(random_state=42), n_jobs=-1,\n",
       "             param_grid={'max_depth': range(5, 20),\n",
       "                         'min_impurity_decrease': array([0.0001, 0.0002, 0.0003, 0.0004, 0.0005, 0.0006, 0.0007, 0.0008,\n",
       "       0.0009]),\n",
       "                         'min_samples_split': range(2, 100, 10)})"
      ]
     },
     "execution_count": 21,
     "metadata": {},
     "output_type": "execute_result"
    }
   ],
   "source": [
    "gs = GridSearchCV(DecisionTreeClassifier(random_state=42), params, n_jobs=-1)\n",
    "gs.fit(train_input, train_target)"
   ]
  },
  {
   "cell_type": "code",
   "execution_count": 22,
   "id": "b94f8ae6-b516-45d6-ac2d-c21f3ebc7b7a",
   "metadata": {},
   "outputs": [
    {
     "name": "stdout",
     "output_type": "stream",
     "text": [
      "{'max_depth': 14, 'min_impurity_decrease': 0.0004, 'min_samples_split': 12}\n"
     ]
    }
   ],
   "source": [
    "# 최상의 매개변수 조합을 확인\n",
    "print(gs.best_params_)"
   ]
  },
  {
   "cell_type": "markdown",
   "id": "dea1978b-e44f-47e7-b637-4f93245605c5",
   "metadata": {},
   "source": [
    "- GridSearchCV 클래스를 사용하니 매개변수를 일일이 바꿔가며 교차 검증을 수행하지 않고 원하는 매개변수 값을 나열하면 자동으로 교차 검증을 수행해서 최상의 매개변수를 찾을 수 있음\n",
    "- 앞에서 매개변수 간격을 0.0001 혹은 1로 설정했는데 이렇게 간격을 둔 것에 특별한 근거가 없음\n",
    "- 랜덤서치를 통해 이 문제를 해결해보자\n",
    "\n",
    "### 랜덤 서치\n",
    "- 매개변수 값이 수치일 때 값의 범위나 간격을 미리 정하기 어려울 수 있음\n",
    "- 이럴때 랜덤 서치(Random Search)를 사용하면 좋음\n",
    "- 랜덤 서치는 매개변수 값의 목록을 전달하는 것이 아니라 매개변수를 샘플링할 수 있는 확률 분포 객체를 전달\n",
    "- 싸이파이(파이썬 과학 라이브러리)에서 2개의 확률 분포 클래스를 임포트해보자"
   ]
  },
  {
   "cell_type": "code",
   "execution_count": 23,
   "id": "6af3f044-830c-4dbf-8446-757c9d818242",
   "metadata": {},
   "outputs": [],
   "source": [
    "from scipy.stats import uniform, randint"
   ]
  },
  {
   "cell_type": "markdown",
   "id": "ff76626b-91ea-47bd-a46d-14a145e62134",
   "metadata": {},
   "source": [
    "- 싸이파이 stats 서브 패키지에 있는 uniform, randint 클래스는 모두 주어진 범위에서 고르게 값을 추출함\n",
    "- 이를 균등 분포에서 샘플링한다라고 말함\n",
    "- randint는 정수값 추출, uniform은 실수값 추출\n",
    "- 0~10 사이에 randint 객체를 만들고 10개의 숫자 샘플링해보자"
   ]
  },
  {
   "cell_type": "code",
   "execution_count": 24,
   "id": "886b92e5-2fb1-4501-9297-21119583a60e",
   "metadata": {},
   "outputs": [
    {
     "data": {
      "text/plain": [
       "array([1, 1, 7, 9, 3, 8, 6, 9, 6, 5])"
      ]
     },
     "execution_count": 24,
     "metadata": {},
     "output_type": "execute_result"
    }
   ],
   "source": [
    "rgen = randint(0, 10)\n",
    "rgen.rvs(10)"
   ]
  },
  {
   "cell_type": "markdown",
   "id": "421f8f4a-944f-442b-8263-04889855a833",
   "metadata": {},
   "source": [
    "- 1,000개를 샘플링해서 각 숫자 갯수를 세어보자"
   ]
  },
  {
   "cell_type": "code",
   "execution_count": 25,
   "id": "5d854f8a-e6d2-4c36-b473-bd0e525c6f4d",
   "metadata": {},
   "outputs": [
    {
     "data": {
      "text/plain": [
       "(array([0, 1, 2, 3, 4, 5, 6, 7, 8, 9]),\n",
       " array([108, 100, 106, 106,  92,  95, 106,  89, 103,  95]))"
      ]
     },
     "execution_count": 25,
     "metadata": {},
     "output_type": "execute_result"
    }
   ],
   "source": [
    "np.unique(rgen.rvs(1000), return_counts=True)"
   ]
  },
  {
   "cell_type": "markdown",
   "id": "60eedbac-cb92-4832-a23a-44d3d0caff9d",
   "metadata": {},
   "source": [
    "- uniform 클래스 사용법도 동일"
   ]
  },
  {
   "cell_type": "code",
   "execution_count": 26,
   "id": "93cb8150-f284-4e72-86d3-12a17b4c0c85",
   "metadata": {},
   "outputs": [
    {
     "data": {
      "text/plain": [
       "array([0.79960696, 0.63368706, 0.81379196, 0.89879078, 0.93662757,\n",
       "       0.0671842 , 0.66265009, 0.51129775, 0.91718709, 0.40094237])"
      ]
     },
     "execution_count": 26,
     "metadata": {},
     "output_type": "execute_result"
    }
   ],
   "source": [
    "ugen = uniform(0, 1)\n",
    "ugen.rvs(10)"
   ]
  },
  {
   "cell_type": "markdown",
   "id": "35c08716-f9db-48e1-816c-4e5e248f6a44",
   "metadata": {},
   "source": [
    "- 랜덤 서치에 randint, uniform 클래스 객체를 넘겨주고 샘플링하여 최적 매개변수를 찾음\n",
    "- 샘플링 횟수는 시스템 자원이 허락하는 범위 내에서 최대한 크게\n",
    "- 이제 탐색할 매개변수의 딕셔너리를 만들어보자\n",
    "  - min_samples_leaf 매개변수를 탐색 대상에 추가\n",
    "  - 이 매개변수는 리프 노드가 되기 위한 최소 샘플의 개수\n",
    "  - 어떤 노드가 분할하여 만들어질 자식 노드의 샘플 수가 이 값보다 작을 경우 분할하지 않음"
   ]
  },
  {
   "cell_type": "code",
   "execution_count": 27,
   "id": "023baf3a-d0a9-4d81-b579-b7161f98d472",
   "metadata": {},
   "outputs": [],
   "source": [
    "params = {'min_impurity_decrease': uniform(0.0001, 0.001), \n",
    "          'max_depth': randint(20, 50),\n",
    "          'min_samples_split': randint(2, 25),\n",
    "          'min_samples_leaf': randint(1, 25)\n",
    "         }"
   ]
  },
  {
   "cell_type": "markdown",
   "id": "29127f1d-2807-4fb2-aa9d-402bec6c555e",
   "metadata": {},
   "source": [
    "- 샘플링 횟수는 사이킷런의 랜덤 서치 클래스인 `RandomizedSearchCV`의 `n_iter` 매개변수 지정"
   ]
  },
  {
   "cell_type": "code",
   "execution_count": 28,
   "id": "938a0c55-bdb9-4929-8266-921c16a74816",
   "metadata": {},
   "outputs": [
    {
     "data": {
      "text/html": [
       "<style>#sk-container-id-3 {color: black;}#sk-container-id-3 pre{padding: 0;}#sk-container-id-3 div.sk-toggleable {background-color: white;}#sk-container-id-3 label.sk-toggleable__label {cursor: pointer;display: block;width: 100%;margin-bottom: 0;padding: 0.3em;box-sizing: border-box;text-align: center;}#sk-container-id-3 label.sk-toggleable__label-arrow:before {content: \"▸\";float: left;margin-right: 0.25em;color: #696969;}#sk-container-id-3 label.sk-toggleable__label-arrow:hover:before {color: black;}#sk-container-id-3 div.sk-estimator:hover label.sk-toggleable__label-arrow:before {color: black;}#sk-container-id-3 div.sk-toggleable__content {max-height: 0;max-width: 0;overflow: hidden;text-align: left;background-color: #f0f8ff;}#sk-container-id-3 div.sk-toggleable__content pre {margin: 0.2em;color: black;border-radius: 0.25em;background-color: #f0f8ff;}#sk-container-id-3 input.sk-toggleable__control:checked~div.sk-toggleable__content {max-height: 200px;max-width: 100%;overflow: auto;}#sk-container-id-3 input.sk-toggleable__control:checked~label.sk-toggleable__label-arrow:before {content: \"▾\";}#sk-container-id-3 div.sk-estimator input.sk-toggleable__control:checked~label.sk-toggleable__label {background-color: #d4ebff;}#sk-container-id-3 div.sk-label input.sk-toggleable__control:checked~label.sk-toggleable__label {background-color: #d4ebff;}#sk-container-id-3 input.sk-hidden--visually {border: 0;clip: rect(1px 1px 1px 1px);clip: rect(1px, 1px, 1px, 1px);height: 1px;margin: -1px;overflow: hidden;padding: 0;position: absolute;width: 1px;}#sk-container-id-3 div.sk-estimator {font-family: monospace;background-color: #f0f8ff;border: 1px dotted black;border-radius: 0.25em;box-sizing: border-box;margin-bottom: 0.5em;}#sk-container-id-3 div.sk-estimator:hover {background-color: #d4ebff;}#sk-container-id-3 div.sk-parallel-item::after {content: \"\";width: 100%;border-bottom: 1px solid gray;flex-grow: 1;}#sk-container-id-3 div.sk-label:hover label.sk-toggleable__label {background-color: #d4ebff;}#sk-container-id-3 div.sk-serial::before {content: \"\";position: absolute;border-left: 1px solid gray;box-sizing: border-box;top: 0;bottom: 0;left: 50%;z-index: 0;}#sk-container-id-3 div.sk-serial {display: flex;flex-direction: column;align-items: center;background-color: white;padding-right: 0.2em;padding-left: 0.2em;position: relative;}#sk-container-id-3 div.sk-item {position: relative;z-index: 1;}#sk-container-id-3 div.sk-parallel {display: flex;align-items: stretch;justify-content: center;background-color: white;position: relative;}#sk-container-id-3 div.sk-item::before, #sk-container-id-3 div.sk-parallel-item::before {content: \"\";position: absolute;border-left: 1px solid gray;box-sizing: border-box;top: 0;bottom: 0;left: 50%;z-index: -1;}#sk-container-id-3 div.sk-parallel-item {display: flex;flex-direction: column;z-index: 1;position: relative;background-color: white;}#sk-container-id-3 div.sk-parallel-item:first-child::after {align-self: flex-end;width: 50%;}#sk-container-id-3 div.sk-parallel-item:last-child::after {align-self: flex-start;width: 50%;}#sk-container-id-3 div.sk-parallel-item:only-child::after {width: 0;}#sk-container-id-3 div.sk-dashed-wrapped {border: 1px dashed gray;margin: 0 0.4em 0.5em 0.4em;box-sizing: border-box;padding-bottom: 0.4em;background-color: white;}#sk-container-id-3 div.sk-label label {font-family: monospace;font-weight: bold;display: inline-block;line-height: 1.2em;}#sk-container-id-3 div.sk-label-container {text-align: center;}#sk-container-id-3 div.sk-container {/* jupyter's `normalize.less` sets `[hidden] { display: none; }` but bootstrap.min.css set `[hidden] { display: none !important; }` so we also need the `!important` here to be able to override the default hidden behavior on the sphinx rendered scikit-learn.org. See: https://github.com/scikit-learn/scikit-learn/issues/21755 */display: inline-block !important;position: relative;}#sk-container-id-3 div.sk-text-repr-fallback {display: none;}</style><div id=\"sk-container-id-3\" class=\"sk-top-container\"><div class=\"sk-text-repr-fallback\"><pre>RandomizedSearchCV(estimator=DecisionTreeClassifier(random_state=42),\n",
       "                   n_iter=100, n_jobs=1,\n",
       "                   param_distributions={&#x27;max_depth&#x27;: &lt;scipy.stats._distn_infrastructure.rv_discrete_frozen object at 0x12f470410&gt;,\n",
       "                                        &#x27;min_impurity_decrease&#x27;: &lt;scipy.stats._distn_infrastructure.rv_continuous_frozen object at 0x12f471e50&gt;,\n",
       "                                        &#x27;min_samples_leaf&#x27;: &lt;scipy.stats._distn_infrastructure.rv_discrete_frozen object at 0x12e8f7390&gt;,\n",
       "                                        &#x27;min_samples_split&#x27;: &lt;scipy.stats._distn_infrastructure.rv_discrete_frozen object at 0x12f4704d0&gt;},\n",
       "                   random_state=42)</pre><b>In a Jupyter environment, please rerun this cell to show the HTML representation or trust the notebook. <br />On GitHub, the HTML representation is unable to render, please try loading this page with nbviewer.org.</b></div><div class=\"sk-container\" hidden><div class=\"sk-item sk-dashed-wrapped\"><div class=\"sk-label-container\"><div class=\"sk-label sk-toggleable\"><input class=\"sk-toggleable__control sk-hidden--visually\" id=\"sk-estimator-id-7\" type=\"checkbox\" ><label for=\"sk-estimator-id-7\" class=\"sk-toggleable__label sk-toggleable__label-arrow\">RandomizedSearchCV</label><div class=\"sk-toggleable__content\"><pre>RandomizedSearchCV(estimator=DecisionTreeClassifier(random_state=42),\n",
       "                   n_iter=100, n_jobs=1,\n",
       "                   param_distributions={&#x27;max_depth&#x27;: &lt;scipy.stats._distn_infrastructure.rv_discrete_frozen object at 0x12f470410&gt;,\n",
       "                                        &#x27;min_impurity_decrease&#x27;: &lt;scipy.stats._distn_infrastructure.rv_continuous_frozen object at 0x12f471e50&gt;,\n",
       "                                        &#x27;min_samples_leaf&#x27;: &lt;scipy.stats._distn_infrastructure.rv_discrete_frozen object at 0x12e8f7390&gt;,\n",
       "                                        &#x27;min_samples_split&#x27;: &lt;scipy.stats._distn_infrastructure.rv_discrete_frozen object at 0x12f4704d0&gt;},\n",
       "                   random_state=42)</pre></div></div></div><div class=\"sk-parallel\"><div class=\"sk-parallel-item\"><div class=\"sk-item\"><div class=\"sk-label-container\"><div class=\"sk-label sk-toggleable\"><input class=\"sk-toggleable__control sk-hidden--visually\" id=\"sk-estimator-id-8\" type=\"checkbox\" ><label for=\"sk-estimator-id-8\" class=\"sk-toggleable__label sk-toggleable__label-arrow\">estimator: DecisionTreeClassifier</label><div class=\"sk-toggleable__content\"><pre>DecisionTreeClassifier(random_state=42)</pre></div></div></div><div class=\"sk-serial\"><div class=\"sk-item\"><div class=\"sk-estimator sk-toggleable\"><input class=\"sk-toggleable__control sk-hidden--visually\" id=\"sk-estimator-id-9\" type=\"checkbox\" ><label for=\"sk-estimator-id-9\" class=\"sk-toggleable__label sk-toggleable__label-arrow\">DecisionTreeClassifier</label><div class=\"sk-toggleable__content\"><pre>DecisionTreeClassifier(random_state=42)</pre></div></div></div></div></div></div></div></div></div></div>"
      ],
      "text/plain": [
       "RandomizedSearchCV(estimator=DecisionTreeClassifier(random_state=42),\n",
       "                   n_iter=100, n_jobs=1,\n",
       "                   param_distributions={'max_depth': <scipy.stats._distn_infrastructure.rv_discrete_frozen object at 0x12f470410>,\n",
       "                                        'min_impurity_decrease': <scipy.stats._distn_infrastructure.rv_continuous_frozen object at 0x12f471e50>,\n",
       "                                        'min_samples_leaf': <scipy.stats._distn_infrastructure.rv_discrete_frozen object at 0x12e8f7390>,\n",
       "                                        'min_samples_split': <scipy.stats._distn_infrastructure.rv_discrete_frozen object at 0x12f4704d0>},\n",
       "                   random_state=42)"
      ]
     },
     "execution_count": 28,
     "metadata": {},
     "output_type": "execute_result"
    }
   ],
   "source": [
    "from sklearn.model_selection import RandomizedSearchCV\n",
    "gs = RandomizedSearchCV(DecisionTreeClassifier(random_state=42), params, n_iter=100, n_jobs=1, random_state=42)\n",
    "gs.fit(train_input, train_target)"
   ]
  },
  {
   "cell_type": "markdown",
   "id": "282ff559-2ea7-4ebc-8ba4-f50fda87da0c",
   "metadata": {},
   "source": [
    "- 총 100번(n_iter 매개변수)를 샘플링하여 교차 검증을 수행하고 최적의 매개변수 조합을 찾음\n",
    "- 앞서 그리드 서치보다 훨씬 교차 검증 수를 줄이면서 넓은 영역을 효과적으로 탐색할 수 있음\n",
    "- 아래는 최적의 매개변수 조합을 출력"
   ]
  },
  {
   "cell_type": "code",
   "execution_count": 29,
   "id": "3da30e73-4de3-479a-bd47-94c0800e1d14",
   "metadata": {},
   "outputs": [
    {
     "name": "stdout",
     "output_type": "stream",
     "text": [
      "{'max_depth': 39, 'min_impurity_decrease': 0.00034102546602601173, 'min_samples_leaf': 7, 'min_samples_split': 13}\n"
     ]
    }
   ],
   "source": [
    "print(gs.best_params_)"
   ]
  },
  {
   "cell_type": "code",
   "execution_count": 30,
   "id": "49f7dc00-5bf8-4317-9e73-d2f70070e31b",
   "metadata": {},
   "outputs": [
    {
     "name": "stdout",
     "output_type": "stream",
     "text": [
      "0.8695428296438884\n"
     ]
    }
   ],
   "source": [
    "# 최고의 교차 검증 점수 확인\n",
    "print(np.max(gs.cv_results_['mean_test_score']))"
   ]
  },
  {
   "cell_type": "markdown",
   "id": "5d955cae-7648-4ce0-84a3-3d07de4c3f4c",
   "metadata": {},
   "source": [
    "- 최적 모델은 이미 전체 훈련 세트(train_input, train_target)로 훈련되어 best_estimator_ 속성에 저장되어 있습니다.\n",
    "- 이 모델을 최종 모델로 결정하고 테스트 세트 성능을 확인해보자"
   ]
  },
  {
   "cell_type": "code",
   "execution_count": 31,
   "id": "b831d3c6-8499-4cfc-83db-d763f533739e",
   "metadata": {},
   "outputs": [
    {
     "name": "stdout",
     "output_type": "stream",
     "text": [
      "0.86\n"
     ]
    }
   ],
   "source": [
    "dt = gs.best_estimator_\n",
    "print(dt.score(test_input, test_target))"
   ]
  },
  {
   "cell_type": "markdown",
   "id": "07d4a282-5b02-4fce-81e2-afa26806272a",
   "metadata": {},
   "source": [
    "- 테스트 세트 점수는 검증 세트에 대한 점수보다 조금 작은 것이 일반적"
   ]
  }
 ],
 "metadata": {
  "kernelspec": {
   "display_name": "Python 3 (ipykernel)",
   "language": "python",
   "name": "python3"
  },
  "language_info": {
   "codemirror_mode": {
    "name": "ipython",
    "version": 3
   },
   "file_extension": ".py",
   "mimetype": "text/x-python",
   "name": "python",
   "nbconvert_exporter": "python",
   "pygments_lexer": "ipython3",
   "version": "3.11.3"
  }
 },
 "nbformat": 4,
 "nbformat_minor": 5
}
