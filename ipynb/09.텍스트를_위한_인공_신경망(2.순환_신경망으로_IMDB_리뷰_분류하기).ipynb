{
 "cells": [
  {
   "cell_type": "markdown",
   "id": "3e6be7b2-ccb7-4288-a830-b306a81e6cb2",
   "metadata": {},
   "source": [
    "# 09-2 순환 신경망으로 IMDB 리뷰 분류하기\n",
    "##### 텐서플로를 사용해 순환 신경망을 만들어 영화 리뷰 데이터셋에 적용해서 리뷰를 긍부정으로 분류합니다.\n",
    "\n",
    "- IMDB 리뷰 데이터셋으로 가장 간단한 순환 신경망 모델을 훈련\n",
    "- 두 가지 방법 사용 :\n",
    "  - 원 핫 인코딩\n",
    "  - 단어 임베딩\n",
    "\n",
    "- 이 절에서 사용할 IMDB 리뷰 데이터셋을 적재해보자\n",
    "![rnn-14](./images/rnn-500-1.jpg)\n",
    "\n",
    "### IMDB 리뷰 데이터셋 \n",
    "- 영화db인 imdb.com에서 수집한 리뷰를 감상평에 따라 긍, 부정으로 분류\n",
    "- 5만개 샘플, 훈련/테스트 데이터에 각 25,000개씩 나뉘어 있음\n",
    "- 말뭉치 : 자연어 처리 분야에서 훈련 데이터를 말함\n",
    "- 신경망에 텍스트 데이터를 고유한 숫자로 변경\n",
    "![rnn-15](./images/rnn-501-1.jpg)\n",
    "\n",
    "- He를 10, cat을 13으로 매핑(정숫값 사이에는 어떤 관계도 없음)\n",
    "- 토큰(token) : 분리된 단어\n",
    "- 하나의 샘플은 여러 개의 토큰으로 이루어지고 1개의 토큰이 하나의 타임스텝에 해당\n",
    "\n",
    "- 토큰에 할당하는 정수 중 몇개는 특정 용도로 예약됨\n",
    "  - 0은 패딩, 1은 문장의 시작, 2는 어휘 사전에 없는 토큰\n",
    "  - 어휘 사전 : 훈련 세트에서 고유한 단어를 뽑아 만든 목록 (테스트 세트 안에 어휘 사전에 없는 단어가 있다면 2로 변환)\n",
    "- IMDB 리뷰 데이터셋은 영어로 된 문장이지만 텐서플로에는 이미 정수로 바꾼 데이터가 포함되어 있음 "
   ]
  },
  {
   "cell_type": "code",
   "execution_count": 1,
   "id": "1057ca22-944b-439c-9dfa-a9b1cab3f8aa",
   "metadata": {},
   "outputs": [
    {
     "name": "stderr",
     "output_type": "stream",
     "text": [
      "2024-01-13 11:18:58.874498: I tensorflow/core/platform/cpu_feature_guard.cc:182] This TensorFlow binary is optimized to use available CPU instructions in performance-critical operations.\n",
      "To enable the following instructions: AVX2 AVX512F AVX512_VNNI FMA, in other operations, rebuild TensorFlow with the appropriate compiler flags.\n"
     ]
    }
   ],
   "source": [
    "import tensorflow as tf\n",
    "\n",
    "tf.keras.utils.set_random_seed(42)\n",
    "tf.config.experimental.enable_op_determinism()"
   ]
  },
  {
   "cell_type": "code",
   "execution_count": 2,
   "id": "1e890f2c-1af8-48f9-80ee-9bad3d48040a",
   "metadata": {},
   "outputs": [
    {
     "name": "stdout",
     "output_type": "stream",
     "text": [
      "Downloading data from https://storage.googleapis.com/tensorflow/tf-keras-datasets/imdb.npz\n",
      "17464789/17464789 [==============================] - 14s 1us/step\n"
     ]
    }
   ],
   "source": [
    "from tensorflow.keras.datasets import imdb\n",
    "\n",
    "(train_input, train_target), (test_input, test_target) = imdb.load_data(num_words=300)"
   ]
  },
  {
   "cell_type": "code",
   "execution_count": 3,
   "id": "9b2fc03c-99b9-49bf-9b03-4057a03ad936",
   "metadata": {},
   "outputs": [
    {
     "name": "stdout",
     "output_type": "stream",
     "text": [
      "(25000,) (25000,)\n"
     ]
    }
   ],
   "source": [
    "# 훈련 세트, 테스트 세트 크기 확인\n",
    "print(train_input.shape, test_input.shape)"
   ]
  },
  {
   "cell_type": "markdown",
   "id": "7fa22af1-2e6d-440d-a3aa-ab822b9f2cb2",
   "metadata": {},
   "source": [
    "- IMDB 리뷰 텍스트는 길이가 제각각임. 고정 크기의 2차원 배열보다 별도의 파이썬 리스트를 담아 메모리 효율적으로 사용\n",
    "![rnn-16](./images/rnn-502-1.jpg)\n",
    "\n",
    "- 넘파이 배열은 정수, 실수, 파이썬 객체를 담을 수 있음"
   ]
  },
  {
   "cell_type": "code",
   "execution_count": 5,
   "id": "d6479d92-d44e-4fa5-9be6-154c05d52031",
   "metadata": {},
   "outputs": [
    {
     "name": "stdout",
     "output_type": "stream",
     "text": [
      "218\n"
     ]
    }
   ],
   "source": [
    "# 첫 번째 리뷰 길이 확인 (218개 토큰)\n",
    "print(len(train_input[0]))"
   ]
  },
  {
   "cell_type": "code",
   "execution_count": 6,
   "id": "66a11e94-7f8c-4e72-bae1-8d788770276f",
   "metadata": {},
   "outputs": [
    {
     "name": "stdout",
     "output_type": "stream",
     "text": [
      "189\n"
     ]
    }
   ],
   "source": [
    "# 두 번째 리뷰 길이 확인\n",
    "print(len(train_input[1]))"
   ]
  },
  {
   "cell_type": "code",
   "execution_count": 7,
   "id": "a490a9fc-4518-4cd3-a9f5-b38ee9a24d40",
   "metadata": {},
   "outputs": [
    {
     "name": "stdout",
     "output_type": "stream",
     "text": [
      "[1, 14, 22, 16, 43, 2, 2, 2, 2, 65, 2, 2, 66, 2, 4, 173, 36, 256, 5, 25, 100, 43, 2, 112, 50, 2, 2, 9, 35, 2, 284, 5, 150, 4, 172, 112, 167, 2, 2, 2, 39, 4, 172, 2, 2, 17, 2, 38, 13, 2, 4, 192, 50, 16, 6, 147, 2, 19, 14, 22, 4, 2, 2, 2, 4, 22, 71, 87, 12, 16, 43, 2, 38, 76, 15, 13, 2, 4, 22, 17, 2, 17, 12, 16, 2, 18, 2, 5, 62, 2, 12, 8, 2, 8, 106, 5, 4, 2, 2, 16, 2, 66, 2, 33, 4, 130, 12, 16, 38, 2, 5, 25, 124, 51, 36, 135, 48, 25, 2, 33, 6, 22, 12, 215, 28, 77, 52, 5, 14, 2, 16, 82, 2, 8, 4, 107, 117, 2, 15, 256, 4, 2, 7, 2, 5, 2, 36, 71, 43, 2, 2, 26, 2, 2, 46, 7, 4, 2, 2, 13, 104, 88, 4, 2, 15, 297, 98, 32, 2, 56, 26, 141, 6, 194, 2, 18, 4, 226, 22, 21, 134, 2, 26, 2, 5, 144, 30, 2, 18, 51, 36, 28, 224, 92, 25, 104, 4, 226, 65, 16, 38, 2, 88, 12, 16, 283, 5, 16, 2, 113, 103, 32, 15, 16, 2, 19, 178, 32]\n"
     ]
    }
   ],
   "source": [
    "# 첫 번째 리뷰 내용 출력\n",
    "print(train_input[0])"
   ]
  },
  {
   "cell_type": "markdown",
   "id": "55aa5b55-1c99-4e8f-961f-c265a8cff073",
   "metadata": {},
   "source": [
    "- num_words=300으로 지정했기 때문에 어휘 사전에는 300개 단어만 들어가 있음\n",
    "- 책에서는 500개를 기준으로 단어를 지정\n",
    "  - imdb.load_data() 함수는 전체 어휘 사전에 있는 단어를 등장 횟수로 순서대로 나열한 다음 가장 많이 등장한 500개 단어를 선택\n",
    "- 이제 타깃 데이터를 출력해보자"
   ]
  },
  {
   "cell_type": "code",
   "execution_count": 8,
   "id": "1ce1f271-b9c0-4938-b229-5ac2e4c676bb",
   "metadata": {},
   "outputs": [
    {
     "name": "stdout",
     "output_type": "stream",
     "text": [
      "[1 0 0 1 0 0 1 0 1 0 1 0 0 0 0 0 1 1 0 1]\n"
     ]
    }
   ],
   "source": [
    "print(train_target[:20])"
   ]
  },
  {
   "cell_type": "markdown",
   "id": "9c521657-49f4-408a-a5ac-06eb2216253e",
   "metadata": {},
   "source": [
    "- 긍부정을 판단하므로 이진 분류 문제로 접근. 0(부정), 1(긍정)\n",
    "- 이제 데이터를 더 살펴보기 전에 훈련 세트에서 검증 세트를 떼어 놓자\n",
    "- 20% 검증 세트로 훈련 세트 크기는 2만개로 줄어들 것"
   ]
  },
  {
   "cell_type": "code",
   "execution_count": 9,
   "id": "d0ddc2dd-bfec-4412-8bb8-404c6dfb91db",
   "metadata": {},
   "outputs": [],
   "source": [
    "from sklearn.model_selection import train_test_split\n",
    "\n",
    "train_input, val_input, train_target, val_target = train_test_split(\n",
    "    train_input, train_target, test_size=0.2, random_state=42)"
   ]
  },
  {
   "cell_type": "markdown",
   "id": "e2703a17-0422-4362-b19e-ee486866b2f5",
   "metadata": {},
   "source": [
    "- 훈련 세트를 조사\n",
    "  - 평균 리뷰의 길이와 가장 짧은, 긴 리뷰 확인"
   ]
  },
  {
   "cell_type": "code",
   "execution_count": 10,
   "id": "2995e32a-88d7-43d9-9da2-b8385a0947b8",
   "metadata": {},
   "outputs": [],
   "source": [
    "import numpy as np\n",
    "\n",
    "lengths = np.array([len(x) for x in train_input])"
   ]
  },
  {
   "cell_type": "code",
   "execution_count": 11,
   "id": "9cdc4d33-ace4-4258-a1b0-3aaea465ed52",
   "metadata": {},
   "outputs": [
    {
     "name": "stdout",
     "output_type": "stream",
     "text": [
      "239.00925 178.0\n"
     ]
    }
   ],
   "source": [
    "print(np.mean(lengths), np.median(lengths))"
   ]
  },
  {
   "cell_type": "markdown",
   "id": "4c9754fa-4e55-413d-a8a0-7c304f69c8cc",
   "metadata": {},
   "source": [
    "- 평균 단어 개수 239, 중간값 178 -> 좌편향 분포\n",
    "- 히스토그램으로 표현해보자"
   ]
  },
  {
   "cell_type": "code",
   "execution_count": 12,
   "id": "ce4b4b41-257e-4dbf-90cd-0353f67a8008",
   "metadata": {},
   "outputs": [
    {
     "data": {
      "image/png": "[encoded data removed]",
      "text/plain": [
       "<Figure size 640x480 with 1 Axes>"
      ]
     },
     "metadata": {},
     "output_type": "display_data"
    }
   ],
   "source": [
    "import matplotlib.pyplot as plt\n",
    "\n",
    "plt.hist(lengths)\n",
    "plt.xlabel('length')\n",
    "plt.ylabel('frequency')\n",
    "plt.show()"
   ]
  },
  {
   "cell_type": "markdown",
   "id": "28a8497d-bab7-49df-bc77-df36a954f7fe",
   "metadata": {},
   "source": [
    "- 대부분 리뷰길이는 300 미만\n",
    "- 평균이 중간값보다 높은 이유는 오른쪽 끝에 아주 큰 데이터가 있기 때문\n",
    "- 리뷰는 대부분 짧으니 중간값보다 훨씬 짧은 100개 단어만 사용\n",
    "- 100개보다 짧은 리뷰를 100에 맞추기 위해 패딩 사용 (패딩 토큰으로 0을 사용)\n",
    "- 함수로 편하게 작업이 가능함"
   ]
  },
  {
   "cell_type": "code",
   "execution_count": 13,
   "id": "f3eb25f6-796b-4169-8c50-12e6448a1371",
   "metadata": {},
   "outputs": [],
   "source": [
    "from tensorflow.keras.preprocessing.sequence import pad_sequences\n",
    "\n",
    "train_seq = pad_sequences(train_input, maxlen=100)"
   ]
  },
  {
   "cell_type": "code",
   "execution_count": 14,
   "id": "e3520f07-9952-42e1-a82c-830f443efc53",
   "metadata": {},
   "outputs": [
    {
     "name": "stdout",
     "output_type": "stream",
     "text": [
      "(20000, 100)\n"
     ]
    }
   ],
   "source": [
    "# train_seq 크기 확인\n",
    "print(train_seq.shape)"
   ]
  },
  {
   "cell_type": "markdown",
   "id": "72352eaf-e61e-4b6b-9028-834cf0fffff4",
   "metadata": {},
   "source": [
    "- 아래의 그림과 같은 2차원 배열이 되었음\n",
    "![rnn-17](./images/rnn-506-1.jpg)\n",
    "\n",
    "- 첫 번쨰 샘플 확인"
   ]
  },
  {
   "cell_type": "code",
   "execution_count": 15,
   "id": "89b8a6f6-e5ee-4a05-a37f-dfb026803cfa",
   "metadata": {},
   "outputs": [
    {
     "name": "stdout",
     "output_type": "stream",
     "text": [
      "[ 10   4  20   9   2   2   2   5  45   6   2   2  33 269   8   2 142   2\n",
      "   5   2  17  73  17 204   5   2  19  55   2   2  92  66 104  14  20  93\n",
      "  76   2 151  33   4  58  12 188   2 151  12 215  69 224 142  73 237   6\n",
      "   2   7   2   2 188   2 103  14  31  10  10   2   7   2   5   2  80  91\n",
      "   2  30   2  34  14  20 151  50  26 131  49   2  84  46  50  37  80  79\n",
      "   6   2  46   7  14  20  10  10   2 158]\n"
     ]
    }
   ],
   "source": [
    "print(train_seq[0])"
   ]
  },
  {
   "cell_type": "markdown",
   "id": "2f92729f-6d5e-4898-8bfd-1467158439db",
   "metadata": {},
   "source": [
    "- 어느 부분이 짤렸는지 확인 (앞부분, 뒷부분)"
   ]
  },
  {
   "cell_type": "code",
   "execution_count": 17,
   "id": "115b2010-598c-4259-a3eb-ddaf83c35a03",
   "metadata": {},
   "outputs": [
    {
     "name": "stdout",
     "output_type": "stream",
     "text": [
      "[6, 2, 46, 7, 14, 20, 10, 10, 2, 158]\n"
     ]
    }
   ],
   "source": [
    "print(train_input[0][-10:])"
   ]
  },
  {
   "cell_type": "markdown",
   "id": "8e6df9bb-60e7-4c86-aa63-ad855c4425be",
   "metadata": {},
   "source": [
    "- train_input[0]에 있는 마지막 10개 토큰 출력\n",
    "- pad_sequences() 함수는 기본으로 maxlen보다 긴 시퀀스 앞부분을 자름\n",
    "- 뒷부분을 자르고 싶다면 pad_sequendces() 함수의 truncating 매개변수를 post로 변경\n",
    "- 6번째 샘플 확인"
   ]
  },
  {
   "cell_type": "code",
   "execution_count": 18,
   "id": "ec701e91-78aa-48b0-9788-780f698e21f1",
   "metadata": {},
   "outputs": [
    {
     "name": "stdout",
     "output_type": "stream",
     "text": [
      "[  0   0   0   0   1   2 195  19  49   2   2 190   4   2   2   2 183  10\n",
      "  10  13  82  79   4   2  36  71 269   8   2  25  19  49   7   4   2   2\n",
      "   2   2   2  10  10  48  25  40   2  11   2   2  40   2   2   5   4   2\n",
      "   2  95  14 238  56 129   2  10  10  21   2  94   2   2   2   2  11 190\n",
      "  24   2   2   7  94 205   2  10  10  87   2  34  49   2   7   2   2   2\n",
      "   2   2 290   2  46  48  64  18   4   2]\n"
     ]
    }
   ],
   "source": [
    "print(train_seq[5])"
   ]
  },
  {
   "cell_type": "markdown",
   "id": "85f31679-0bb9-409b-9aa4-377c7f07cdd7",
   "metadata": {},
   "source": [
    "- 샘플 길이가 100이 안되는 것을 확인 (앞부분 0)\n",
    "- 이제 검증 세트 길이를 100으로 맞추자"
   ]
  },
  {
   "cell_type": "code",
   "execution_count": 27,
   "id": "f41811bc-075d-43f4-8a85-0d496eb61d17",
   "metadata": {},
   "outputs": [],
   "source": [
    "val_seq = pad_sequences(val_input, maxlen=100)"
   ]
  },
  {
   "cell_type": "markdown",
   "id": "e72c8d5a-aa1a-4d01-9b95-0a0808ec131c",
   "metadata": {},
   "source": [
    "### 순환 신경망 만들기\n",
    "- SimpleRNN 클래스 사용\n",
    "- 이진분류이므로 1개 뉴런을 가지고 시그모이드 활성화 함수 사용해야 함\n",
    "- 먼저 케라스 Sequential 클래스 신경망 코드를 보자"
   ]
  },
  {
   "cell_type": "code",
   "execution_count": 19,
   "id": "d5d70e04-4964-450b-bf94-140553fffa89",
   "metadata": {},
   "outputs": [],
   "source": [
    "from tensorflow import keras\n",
    "\n",
    "model = keras.Sequential()\n",
    "\n",
    "model.add(keras.layers.SimpleRNN(8, input_shape=(100, 300)))\n",
    "model.add(keras.layers.Dense(1, activation='sigmoid'))"
   ]
  },
  {
   "cell_type": "markdown",
   "id": "e6c2edf4-2a1a-4b49-9383-de28ce51ca93",
   "metadata": {},
   "source": [
    "- input_shape 의 100은 샘플의 길이, 300은 잠시 후 설명\n",
    "- 순환층도 활성화 함수 사용\n",
    "  - SimpleRNN 클래스의 activation 매개변수 기본값은 tanh를 그대로 사용\n",
    "  - 300 차원은 정수값에 있는 크기 속성을 없애고 각 정수를 고유하게 표현하기 위한 원-핫 인코딩임\n",
    "    ![rnn-18](./images/rnn-509-1.jpg)\n",
    "\n",
    "  - imdb.load_data() 함수에서 300개 단어만 사용하도록 지정했기 때문에 고유 단어는 모두 300개임 + 0(패딩 토큰)까지 배열의 총 길이는 300\n",
    "  - 케라스에 원-핫 인코딩 배열을 반환"
   ]
  },
  {
   "cell_type": "code",
   "execution_count": 20,
   "id": "d52d37cc-55f0-4b29-98ca-70f27ca20d3b",
   "metadata": {},
   "outputs": [],
   "source": [
    "train_oh = keras.utils.to_categorical(train_seq)"
   ]
  },
  {
   "cell_type": "code",
   "execution_count": 23,
   "id": "9b30ad7d-84c7-4a04-b6d7-272810ddf788",
   "metadata": {},
   "outputs": [
    {
     "name": "stdout",
     "output_type": "stream",
     "text": [
      "(20000, 100, 300)\n"
     ]
    }
   ],
   "source": [
    "# 배열의 크기 출력\n",
    "print(train_oh.shape)"
   ]
  },
  {
   "cell_type": "markdown",
   "id": "ba536887-bc9c-44e5-90aa-516642cc3403",
   "metadata": {},
   "source": [
    "- 정수마다 모두 300 차원의 배열로 변경  -> (20000, 100) 크기 train_seq가 (20000, 100, 500) 크기 train_oh로 변경\n",
    "- 샘플 데이터 크기가 1차원 정수 배열(100,)에서 2차원 배열(100,300)으로 바뀌어야 하므로 SimpleRNN 클래스 input_shape 매개변수 값을 (100, 300)으로 지정\n",
    "- 첫 번째 샘플의 첫 토큰 10이 잘 출력되었는지 확인"
   ]
  },
  {
   "cell_type": "code",
   "execution_count": 24,
   "id": "dc61a063-31a1-4e97-8dcb-55eb0898b968",
   "metadata": {},
   "outputs": [
    {
     "name": "stdout",
     "output_type": "stream",
     "text": [
      "[0. 0. 0. 0. 0. 0. 0. 0. 0. 0. 1. 0.]\n"
     ]
    }
   ],
   "source": [
    "print(train_oh[0][0][:12])"
   ]
  },
  {
   "cell_type": "code",
   "execution_count": 25,
   "id": "c4be459a-44f1-4f9e-8e7a-0bd7e1b64b1b",
   "metadata": {},
   "outputs": [
    {
     "name": "stdout",
     "output_type": "stream",
     "text": [
      "1.0\n"
     ]
    }
   ],
   "source": [
    "# 모든 원소 값을 더해 1이 되는지 확인\n",
    "print(np.sum(train_oh[0][0]))"
   ]
  },
  {
   "cell_type": "code",
   "execution_count": 28,
   "id": "01121cca-3584-4b47-b7cc-a396d731f8cf",
   "metadata": {},
   "outputs": [],
   "source": [
    "# 같은 방식으로 val_seq도 원-핫 인코딩으로 변경\n",
    "val_oh = keras.utils.to_categorical(val_seq)"
   ]
  },
  {
   "cell_type": "code",
   "execution_count": 30,
   "id": "4d02492a-91ca-477a-a988-04bd4b2afbc6",
   "metadata": {},
   "outputs": [
    {
     "name": "stdout",
     "output_type": "stream",
     "text": [
      "Model: \"sequential\"\n",
      "_________________________________________________________________\n",
      " Layer (type)                Output Shape              Param #   \n",
      "=================================================================\n",
      " simple_rnn (SimpleRNN)      (None, 8)                 2472      \n",
      "                                                                 \n",
      " dense (Dense)               (None, 1)                 9         \n",
      "                                                                 \n",
      "=================================================================\n",
      "Total params: 2481 (9.69 KB)\n",
      "Trainable params: 2481 (9.69 KB)\n",
      "Non-trainable params: 0 (0.00 Byte)\n",
      "_________________________________________________________________\n"
     ]
    }
   ],
   "source": [
    "# 모델 구조 출력\n",
    "model.summary()"
   ]
  },
  {
   "cell_type": "markdown",
   "id": "3d3414a1-9a4e-495f-8c2a-fafb1f956ef9",
   "metadata": {},
   "source": [
    "- SimpleRNN에 전달할 샘플 크기는 (100, 500)이지만 순환층 마지막 타임스텝의 은틱 상태만 출력\n",
    "- 순환층에 사용된 모델 파라미터 개수 계산\n",
    "  - 입력 토큰 300차원의 원-핫 인코딩 배열\n",
    "  - 이 배열이 순환층의 뉴런 8개와 완전히 연결되기 때문에 300 X 8 = 2400개 가중치가 있음\n",
    "  - 순환층 은닉 상태는 다시 다음 타임스텝에 사용되기 위해 또 다른 가중치와 곱해짐\n",
    "  - 이 은닉 상태도 순환층 뉴런과 완전히 연결되기 떄문에 8 (은닉 상태 크기) X 8 (뉴런 개수) = 64개 가중치 필요\n",
    "  - 뉴런마다 하나의 절편이 있음\n",
    "  - 모두 2400 + 64 + 8 = 2472 모델 파라미터가 필요\n",
    "\n",
    "### 순환 신경망 훈련하기\n",
    "- 훈련하는 방법은 다른 신경망과 동일\n",
    "- 이 예에서 기본 RMSprop 학습률 0.001을 사용하지 않기 위해 RMSProp 객체를 만들어 학습률 0.0001로 지정\n",
    "- 에포크 횟수를 100으로 늘리고 배치 크기는 64로 설정"
   ]
  },
  {
   "cell_type": "code",
   "execution_count": 31,
   "id": "29f56e64-8b5d-4fd1-b8ba-481af55774e5",
   "metadata": {},
   "outputs": [
    {
     "name": "stdout",
     "output_type": "stream",
     "text": [
      "Epoch 1/100\n",
      "313/313 [==============================] - 6s 17ms/step - loss: 0.7003 - accuracy: 0.5002 - val_loss: 0.6970 - val_accuracy: 0.5058\n",
      "Epoch 2/100\n",
      " 10/313 [..............................] - ETA: 4s - loss: 0.6994 - accuracy: 0.5031"
     ]
    },
    {
     "name": "stderr",
     "output_type": "stream",
     "text": [
      "/Users/jeremyshin/.pyenv/versions/3.11.3/envs/hongong/lib/python3.11/site-packages/keras/src/engine/training.py:3103: UserWarning: You are saving your model as an HDF5 file via `model.save()`. This file format is considered legacy. We recommend using instead the native Keras format, e.g. `model.save('my_model.keras')`.\n",
      "  saving_api.save_model(\n"
     ]
    },
    {
     "name": "stdout",
     "output_type": "stream",
     "text": [
      "313/313 [==============================] - 5s 16ms/step - loss: 0.6956 - accuracy: 0.5123 - val_loss: 0.6946 - val_accuracy: 0.5124\n",
      "Epoch 3/100\n",
      "313/313 [==============================] - 6s 18ms/step - loss: 0.6917 - accuracy: 0.5282 - val_loss: 0.6909 - val_accuracy: 0.5318\n",
      "Epoch 4/100\n",
      "313/313 [==============================] - 6s 18ms/step - loss: 0.6844 - accuracy: 0.5549 - val_loss: 0.6833 - val_accuracy: 0.5690\n",
      "Epoch 5/100\n",
      "313/313 [==============================] - 6s 19ms/step - loss: 0.6784 - accuracy: 0.5778 - val_loss: 0.6797 - val_accuracy: 0.5770\n",
      "Epoch 6/100\n",
      "313/313 [==============================] - 6s 19ms/step - loss: 0.6732 - accuracy: 0.5892 - val_loss: 0.6755 - val_accuracy: 0.5844\n",
      "Epoch 7/100\n",
      "313/313 [==============================] - 6s 20ms/step - loss: 0.6680 - accuracy: 0.6063 - val_loss: 0.6695 - val_accuracy: 0.5974\n",
      "Epoch 8/100\n",
      "313/313 [==============================] - 6s 20ms/step - loss: 0.6616 - accuracy: 0.6195 - val_loss: 0.6632 - val_accuracy: 0.6112\n",
      "Epoch 9/100\n",
      "313/313 [==============================] - 6s 19ms/step - loss: 0.6539 - accuracy: 0.6330 - val_loss: 0.6563 - val_accuracy: 0.6222\n",
      "Epoch 10/100\n",
      "313/313 [==============================] - 6s 20ms/step - loss: 0.6464 - accuracy: 0.6448 - val_loss: 0.6475 - val_accuracy: 0.6380\n",
      "Epoch 11/100\n",
      "313/313 [==============================] - 7s 22ms/step - loss: 0.6374 - accuracy: 0.6562 - val_loss: 0.6395 - val_accuracy: 0.6506\n",
      "Epoch 12/100\n",
      "313/313 [==============================] - 7s 23ms/step - loss: 0.6281 - accuracy: 0.6684 - val_loss: 0.6299 - val_accuracy: 0.6658\n",
      "Epoch 13/100\n",
      "313/313 [==============================] - 6s 20ms/step - loss: 0.6190 - accuracy: 0.6805 - val_loss: 0.6204 - val_accuracy: 0.6744\n",
      "Epoch 14/100\n",
      "313/313 [==============================] - 6s 20ms/step - loss: 0.6090 - accuracy: 0.6885 - val_loss: 0.6111 - val_accuracy: 0.6864\n",
      "Epoch 15/100\n",
      "313/313 [==============================] - 6s 20ms/step - loss: 0.5992 - accuracy: 0.6987 - val_loss: 0.6019 - val_accuracy: 0.6926\n",
      "Epoch 16/100\n",
      "313/313 [==============================] - 7s 22ms/step - loss: 0.5897 - accuracy: 0.7067 - val_loss: 0.5925 - val_accuracy: 0.6978\n",
      "Epoch 17/100\n",
      "313/313 [==============================] - 7s 21ms/step - loss: 0.5811 - accuracy: 0.7142 - val_loss: 0.5845 - val_accuracy: 0.7022\n",
      "Epoch 18/100\n",
      "313/313 [==============================] - 7s 22ms/step - loss: 0.5736 - accuracy: 0.7203 - val_loss: 0.5779 - val_accuracy: 0.7084\n",
      "Epoch 19/100\n",
      "313/313 [==============================] - 8s 25ms/step - loss: 0.5646 - accuracy: 0.7257 - val_loss: 0.5689 - val_accuracy: 0.7188\n",
      "Epoch 20/100\n",
      "313/313 [==============================] - 7s 22ms/step - loss: 0.5567 - accuracy: 0.7329 - val_loss: 0.5619 - val_accuracy: 0.7212\n",
      "Epoch 21/100\n",
      "313/313 [==============================] - 6s 20ms/step - loss: 0.5506 - accuracy: 0.7352 - val_loss: 0.5553 - val_accuracy: 0.7244\n",
      "Epoch 22/100\n",
      "313/313 [==============================] - 7s 22ms/step - loss: 0.5442 - accuracy: 0.7386 - val_loss: 0.5512 - val_accuracy: 0.7262\n",
      "Epoch 23/100\n",
      "313/313 [==============================] - 8s 24ms/step - loss: 0.5383 - accuracy: 0.7423 - val_loss: 0.5465 - val_accuracy: 0.7332\n",
      "Epoch 24/100\n",
      "313/313 [==============================] - 7s 23ms/step - loss: 0.5337 - accuracy: 0.7464 - val_loss: 0.5419 - val_accuracy: 0.7330\n",
      "Epoch 25/100\n",
      "313/313 [==============================] - 6s 19ms/step - loss: 0.5297 - accuracy: 0.7477 - val_loss: 0.5378 - val_accuracy: 0.7382\n",
      "Epoch 26/100\n",
      "313/313 [==============================] - 7s 21ms/step - loss: 0.5255 - accuracy: 0.7520 - val_loss: 0.5356 - val_accuracy: 0.7358\n",
      "Epoch 27/100\n",
      "313/313 [==============================] - 7s 23ms/step - loss: 0.5227 - accuracy: 0.7520 - val_loss: 0.5320 - val_accuracy: 0.7408\n",
      "Epoch 28/100\n",
      "313/313 [==============================] - 7s 23ms/step - loss: 0.5194 - accuracy: 0.7546 - val_loss: 0.5331 - val_accuracy: 0.7360\n",
      "Epoch 29/100\n",
      "313/313 [==============================] - 8s 24ms/step - loss: 0.5158 - accuracy: 0.7563 - val_loss: 0.5460 - val_accuracy: 0.7286\n",
      "Epoch 30/100\n",
      "313/313 [==============================] - 8s 25ms/step - loss: 0.5132 - accuracy: 0.7580 - val_loss: 0.5258 - val_accuracy: 0.7444\n",
      "Epoch 31/100\n",
      "313/313 [==============================] - 9s 29ms/step - loss: 0.5112 - accuracy: 0.7585 - val_loss: 0.5248 - val_accuracy: 0.7458\n",
      "Epoch 32/100\n",
      "313/313 [==============================] - 7s 23ms/step - loss: 0.5089 - accuracy: 0.7614 - val_loss: 0.5246 - val_accuracy: 0.7450\n",
      "Epoch 33/100\n",
      "313/313 [==============================] - 8s 24ms/step - loss: 0.5070 - accuracy: 0.7612 - val_loss: 0.5232 - val_accuracy: 0.7434\n",
      "Epoch 34/100\n",
      "313/313 [==============================] - 7s 24ms/step - loss: 0.5044 - accuracy: 0.7628 - val_loss: 0.5238 - val_accuracy: 0.7396\n",
      "Epoch 35/100\n",
      "313/313 [==============================] - 8s 25ms/step - loss: 0.5039 - accuracy: 0.7638 - val_loss: 0.5213 - val_accuracy: 0.7464\n",
      "Epoch 36/100\n",
      "313/313 [==============================] - 8s 26ms/step - loss: 0.5025 - accuracy: 0.7636 - val_loss: 0.5189 - val_accuracy: 0.7466\n",
      "Epoch 37/100\n",
      "313/313 [==============================] - 8s 25ms/step - loss: 0.5009 - accuracy: 0.7652 - val_loss: 0.5198 - val_accuracy: 0.7478\n",
      "Epoch 38/100\n",
      "313/313 [==============================] - 7s 24ms/step - loss: 0.4994 - accuracy: 0.7649 - val_loss: 0.5200 - val_accuracy: 0.7484\n",
      "Epoch 39/100\n",
      "313/313 [==============================] - 8s 25ms/step - loss: 0.4983 - accuracy: 0.7653 - val_loss: 0.5208 - val_accuracy: 0.7454\n"
     ]
    }
   ],
   "source": [
    "rmsprop = keras.optimizers.RMSprop(learning_rate=1e-4)\n",
    "model.compile(optimizer=rmsprop, loss='binary_crossentropy',\n",
    "              metrics=['accuracy'])\n",
    "\n",
    "checkpoint_cb = keras.callbacks.ModelCheckpoint('best-simplernn-model.h5',save_best_only=True)\n",
    "early_stopping_cb = keras.callbacks.EarlyStopping(patience=3,restore_best_weights=True)\n",
    "\n",
    "history = model.fit(train_oh, train_target, epochs=100, batch_size=64,\n",
    "                    validation_data=(val_oh, val_target),\n",
    "                    callbacks=[checkpoint_cb, early_stopping_cb])"
   ]
  },
  {
   "cell_type": "markdown",
   "id": "0c51796f-50c8-4214-a6f2-1d8751f45936",
   "metadata": {},
   "source": [
    "- 책에서는 서른 다섯 번째 에포크에서 조기 종료\n",
    "- 검증 세트 정확도는 약 80% 정도\n",
    "- 감상평을 분류하는데 어느 정도 성과 있는 것을 판단 가능\n",
    "- 이제 훈련 손실과 검증 손실을 그래프로 그려서 훈련 과정을 살펴보자"
   ]
  },
  {
   "cell_type": "code",
   "execution_count": 32,
   "id": "e45fc3ab-c802-4823-bd77-6df5e8d28ff4",
   "metadata": {},
   "outputs": [
    {
     "data": {
      "image/png": "[encoded data removed]",
      "text/plain": [
       "<Figure size 640x480 with 1 Axes>"
      ]
     },
     "metadata": {},
     "output_type": "display_data"
    }
   ],
   "source": [
    "plt.plot(history.history['loss'])\n",
    "plt.plot(history.history['val_loss'])\n",
    "plt.xlabel('epoch')\n",
    "plt.ylabel('loss')\n",
    "plt.legend(['train', 'val'])\n",
    "plt.show()"
   ]
  },
  {
   "cell_type": "markdown",
   "id": "086d6dca-ae61-49e3-911b-9f94bfd8edb0",
   "metadata": {},
   "source": [
    "- 훈련 손실은 꾸준히 감소하지만 대략 스무 번쨰 에포크에서 감소가 둔해짐\n",
    "- 위 작업의 단점은 원-핫 인코딩의 단점은 입력 데이터가 엄청 커진다는 것"
   ]
  },
  {
   "cell_type": "code",
   "execution_count": 33,
   "id": "a12928af-7670-4557-a0e6-92a7b12444f3",
   "metadata": {},
   "outputs": [
    {
     "name": "stdout",
     "output_type": "stream",
     "text": [
      "8000000 2400000000\n"
     ]
    }
   ],
   "source": [
    "print(train_seq.nbytes, train_oh.nbytes)"
   ]
  },
  {
   "cell_type": "markdown",
   "id": "4a089498-8bc2-4817-9635-5a41290aa9b3",
   "metadata": {},
   "source": [
    "- 토큰 1개를 300차원으로 늘렸기 때문에 300배가 커짐\n",
    "- 다음 장에서 더 좋은 방법을 알아보자\n",
    "\n",
    "### 단어 임베딩을 사용하기\n",
    "- 단어 임베딩 : 각 단어를 고정된 크기의 실수 벡터로 바꿔줌\n",
    "  ![rnn-19](./images/rnn-514-1.jpg)\n",
    "\n",
    "- 단어 임베딩은 원-핫 인코딩과 비교하여 의미 있는 값으로 채워져있어 자연어 처리에서 더 좋은 성능을 냄\n",
    "- 케라스에서 Embedding 클래스로 임베딩 기능을 제공\n",
    "- 장점 : 입력으로 정수를 받음 -> train_seq를 사용할 수 있음 메모리 훨씬 효율적으로 사용 (배열 X)\n",
    "- 임베딩도 (100,) 크기 샘플을 (100, 20)과 같이 2차원 배열로 늘리지만 훨씬 작은 크기로 단어를 잘 표현 가능"
   ]
  },
  {
   "cell_type": "code",
   "execution_count": 34,
   "id": "dcc5389e-e369-4334-9d4d-e557fd387f34",
   "metadata": {},
   "outputs": [
    {
     "name": "stdout",
     "output_type": "stream",
     "text": [
      "Model: \"sequential_1\"\n",
      "_________________________________________________________________\n",
      " Layer (type)                Output Shape              Param #   \n",
      "=================================================================\n",
      " embedding (Embedding)       (None, 100, 16)           4800      \n",
      "                                                                 \n",
      " simple_rnn_1 (SimpleRNN)    (None, 8)                 200       \n",
      "                                                                 \n",
      " dense_1 (Dense)             (None, 1)                 9         \n",
      "                                                                 \n",
      "=================================================================\n",
      "Total params: 5009 (19.57 KB)\n",
      "Trainable params: 5009 (19.57 KB)\n",
      "Non-trainable params: 0 (0.00 Byte)\n",
      "_________________________________________________________________\n"
     ]
    }
   ],
   "source": [
    "model2 = keras.Sequential()\n",
    "\n",
    "model2.add(keras.layers.Embedding(300, 16, input_length=100))\n",
    "model2.add(keras.layers.SimpleRNN(8))\n",
    "model2.add(keras.layers.Dense(1, activation='sigmoid'))\n",
    "\n",
    "model2.summary()"
   ]
  },
  {
   "cell_type": "markdown",
   "id": "c7900577-1aec-451a-b217-d81ae8aa9230",
   "metadata": {},
   "source": [
    "- Embedding 클래스 첫 매개변수(300)은 어휘 사전의 크기\n",
    "  - 앞선 단어와 같이 설정(비교를 위해)\n",
    "- 두 번째 매개변수(16)은 임베딩 벡터의 크기\n",
    "  - 원-핫 인코딩보다 훨씬 작은 크기(16)의 벡터를 사용\n",
    "- 세 번째  input_length 매개변수는 입력 시퀀스의 길이 : 앞서 길이를 100으로 맞춰 train_seq를 만듦\n",
    "- summery() 메서드 출력에서 알 수 있듯 이 모델은 (100,) 크기 입력을 받아(100,16) 크기 출력을 만듦\n",
    "- 300 X 16 = 4800\b개 모델 파라미터를 가짐\n",
    "- 임베딩 백터 크기 16, 8개 뉴런 -> 16 X 8 = 128개를 가지고 은닉 상태 가중치 8 X 8 = 64개, 마지막 8개의 절편으로 전체 모델 파라미터 개수는 200\n",
    "- 마지막 덴스 층의 가중치 개수는 이전과 동일한 9개\n",
    "- 이제 모델을 훈련해보자"
   ]
  },
  {
   "cell_type": "code",
   "execution_count": 35,
   "id": "a585e9b2-4135-4f23-a67a-c4cef54e419e",
   "metadata": {},
   "outputs": [
    {
     "name": "stdout",
     "output_type": "stream",
     "text": [
      "Epoch 1/100\n",
      "313/313 [==============================] - 5s 14ms/step - loss: 0.6893 - accuracy: 0.5351 - val_loss: 0.6706 - val_accuracy: 0.5872\n",
      "Epoch 2/100\n",
      "313/313 [==============================] - 4s 14ms/step - loss: 0.6399 - accuracy: 0.6467 - val_loss: 0.6234 - val_accuracy: 0.6664\n",
      "Epoch 3/100\n",
      "313/313 [==============================] - 4s 13ms/step - loss: 0.6051 - accuracy: 0.6941 - val_loss: 0.6003 - val_accuracy: 0.6948\n",
      "Epoch 4/100\n",
      "313/313 [==============================] - 4s 14ms/step - loss: 0.5831 - accuracy: 0.7172 - val_loss: 0.5888 - val_accuracy: 0.7026\n",
      "Epoch 5/100\n",
      "313/313 [==============================] - 4s 14ms/step - loss: 0.5663 - accuracy: 0.7305 - val_loss: 0.5669 - val_accuracy: 0.7300\n",
      "Epoch 6/100\n",
      "313/313 [==============================] - 4s 14ms/step - loss: 0.5527 - accuracy: 0.7408 - val_loss: 0.5536 - val_accuracy: 0.7356\n",
      "Epoch 7/100\n",
      "313/313 [==============================] - 4s 14ms/step - loss: 0.5410 - accuracy: 0.7475 - val_loss: 0.5422 - val_accuracy: 0.7404\n",
      "Epoch 8/100\n",
      "313/313 [==============================] - 4s 13ms/step - loss: 0.5313 - accuracy: 0.7509 - val_loss: 0.5443 - val_accuracy: 0.7352\n",
      "Epoch 9/100\n",
      "313/313 [==============================] - 4s 14ms/step - loss: 0.5236 - accuracy: 0.7549 - val_loss: 0.5463 - val_accuracy: 0.7238\n",
      "Epoch 10/100\n",
      "313/313 [==============================] - 4s 14ms/step - loss: 0.5177 - accuracy: 0.7578 - val_loss: 0.5377 - val_accuracy: 0.7382\n",
      "Epoch 11/100\n",
      "313/313 [==============================] - 4s 14ms/step - loss: 0.5135 - accuracy: 0.7590 - val_loss: 0.5264 - val_accuracy: 0.7454\n",
      "Epoch 12/100\n",
      "313/313 [==============================] - 4s 14ms/step - loss: 0.5094 - accuracy: 0.7619 - val_loss: 0.5265 - val_accuracy: 0.7422\n",
      "Epoch 13/100\n",
      "313/313 [==============================] - 4s 14ms/step - loss: 0.5056 - accuracy: 0.7641 - val_loss: 0.5207 - val_accuracy: 0.7468\n",
      "Epoch 14/100\n",
      "313/313 [==============================] - 5s 14ms/step - loss: 0.5027 - accuracy: 0.7657 - val_loss: 0.5226 - val_accuracy: 0.7436\n",
      "Epoch 15/100\n",
      "313/313 [==============================] - 4s 14ms/step - loss: 0.4998 - accuracy: 0.7689 - val_loss: 0.5678 - val_accuracy: 0.6992\n",
      "Epoch 16/100\n",
      "313/313 [==============================] - 4s 14ms/step - loss: 0.4977 - accuracy: 0.7677 - val_loss: 0.5155 - val_accuracy: 0.7500\n",
      "Epoch 17/100\n",
      "313/313 [==============================] - 4s 14ms/step - loss: 0.4944 - accuracy: 0.7713 - val_loss: 0.5222 - val_accuracy: 0.7450\n",
      "Epoch 18/100\n",
      "313/313 [==============================] - 4s 14ms/step - loss: 0.4927 - accuracy: 0.7712 - val_loss: 0.5149 - val_accuracy: 0.7486\n",
      "Epoch 19/100\n",
      "313/313 [==============================] - 4s 14ms/step - loss: 0.4905 - accuracy: 0.7730 - val_loss: 0.5138 - val_accuracy: 0.7464\n",
      "Epoch 20/100\n",
      "313/313 [==============================] - 5s 15ms/step - loss: 0.4880 - accuracy: 0.7740 - val_loss: 0.5124 - val_accuracy: 0.7500\n",
      "Epoch 21/100\n",
      "313/313 [==============================] - 4s 14ms/step - loss: 0.4871 - accuracy: 0.7749 - val_loss: 0.5143 - val_accuracy: 0.7488\n",
      "Epoch 22/100\n",
      "313/313 [==============================] - 4s 14ms/step - loss: 0.4847 - accuracy: 0.7775 - val_loss: 0.5148 - val_accuracy: 0.7486\n",
      "Epoch 23/100\n",
      "313/313 [==============================] - 4s 14ms/step - loss: 0.4830 - accuracy: 0.7775 - val_loss: 0.5135 - val_accuracy: 0.7500\n"
     ]
    }
   ],
   "source": [
    "rmsprop = keras.optimizers.RMSprop(learning_rate=1e-4)\n",
    "model2.compile(optimizer=rmsprop, loss='binary_crossentropy',\n",
    "               metrics=['accuracy'])\n",
    "\n",
    "checkpoint_cb = keras.callbacks.ModelCheckpoint('best-embedding-model.h5',\n",
    "                                                save_best_only=True)\n",
    "early_stopping_cb = keras.callbacks.EarlyStopping(patience=3,\n",
    "                                                  restore_best_weights=True)\n",
    "\n",
    "history = model2.fit(train_seq, train_target, epochs=100, batch_size=64,\n",
    "                     validation_data=(val_seq, val_target),\n",
    "                     callbacks=[checkpoint_cb, early_stopping_cb])"
   ]
  },
  {
   "cell_type": "markdown",
   "id": "fe7949f9-d4b1-4c0a-bd29-2b1a8a21bcfc",
   "metadata": {},
   "source": [
    "- 출력 결과를 보면 원-핫 인코딩 사용 모델과 비슷한 성능\n",
    "- 반면 순환층의 가중치 개수는 훨씬 작고 훈련 세트 크기도 크게 줄어듦\n",
    "- 마지막으로 훈련 손실과 검증 손실을 그래프로 그려보자"
   ]
  },
  {
   "cell_type": "code",
   "execution_count": null,
   "id": "dddffb73-7a53-4a31-abc1-f8e3aca90a6d",
   "metadata": {},
   "outputs": [],
   "source": [
    "plt.plot(history.history['loss'])\n",
    "plt.plot(history.history['val_loss'])\n",
    "plt.xlabel('epoch')\n",
    "plt.ylabel('loss')\n",
    "plt.legend(['train', 'val'])\n",
    "plt.show()"
   ]
  },
  {
   "cell_type": "markdown",
   "id": "35c23ab1-9818-455a-bbcf-d8a5c9164bf7",
   "metadata": {},
   "source": [
    "- 검증 손실이 더 감소되지 않아 훈련이 적절히 조기 종료됨을 확인\n",
    "- 이를 더 개선할 방법을 다음 절에서 확인"
   ]
  }
 ],
 "metadata": {
  "kernelspec": {
   "display_name": "Python 3 (ipykernel)",
   "language": "python",
   "name": "python3"
  },
  "language_info": {
   "codemirror_mode": {
    "name": "ipython",
    "version": 3
   },
   "file_extension": ".py",
   "mimetype": "text/x-python",
   "name": "python",
   "nbconvert_exporter": "python",
   "pygments_lexer": "ipython3",
   "version": "3.11.3"
  }
 },
 "nbformat": 4,
 "nbformat_minor": 5
}
