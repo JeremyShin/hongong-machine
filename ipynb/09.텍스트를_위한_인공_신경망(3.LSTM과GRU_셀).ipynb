{
 "cells": [
  {
   "cell_type": "markdown",
   "id": "e3c259b7-8acd-4e4a-a0e9-480f87c38009",
   "metadata": {},
   "source": [
    "# 09-3 LSTM과 GRU 셀\n",
    "##### 순환 신경망에서 빼놓을 수 없는 핵심 기술인 LSTM과 GRU 셀을 사용한 모델을 만들어봅니다.\n",
    "\n",
    "- 앞에서 배웠던 SimpleRNN보다 계산이 복잡하지만 성능이 뛰어난 LSTM, GRU에 대해 알아보자.\n",
    "- 순환층은 긴 시퀀스를 학습하기 어려움 -> 은닉 상태 정보가 점차 희석 -> LSTM, GRU 발명 이유\n",
    "\n",
    "\n",
    "### LSTM 구조\n",
    "- Long Short-Term Memory 약자. -> 단기 기억윽 오래 기억하기 위해 고안됨\n",
    "- 은닉 상태는 입력과 이전 타임스텝의 은닉 상태 가중치에 곱한 후 활성화 함수를 통과시켜 다음 은닉 상태를 만듦 (시그모이드 함수 사용)\n",
    "- tanh 활성화 함수를 통과시켜 어떤 값과 곱해져서 은닉 상태를 만듦.\n",
    "\n",
    "![rnn-19](./images/rnn-527-1.jpg)\n",
    "\n",
    "- 이 그림은 W<sub>x</sub>, W<sub>h</sub>를 통틀어 W<sub>\bo</sub> 라고 표기\n",
    "- 파란색 원 : tanh, 주황색 원 : 시그모이드, X는 곱셈\n",
    "- LSTM에는 순환되는 상태가 2개 : 은닉 상태, 셀 상태\n",
    "  - 셀 상태 : 다음 층으로 전달되지 않고 LSTM 셀에서 순환만 되는 값. 아래 그림에 초록색으로 순환되는 셀 상태 표시\n",
    "    ![rnn-20](./images/528-1.jpg)\n",
    "- 셀 상태를 은닉 상태 h와 구분하여 c로 표시.\n",
    "- 셀 상태 계산 과정\n",
    "  - 입력과 은닉 상태를 또 다른 가중치 w<sub>t</sub>에 곱한 후 시그모이드 함수를 통과 시킴\n",
    "  - 이전 타임스텝의 셀 상태와 곱하여 새로운 셀 상태를 만듦. -> 이 셀 상태가 오른쪽에서 tanh 함수를 통과하여 새로운 은닉 상태를 만드는데 기여\n",
    "  - 입력과 은닉 상태에 곱해지는 가중치 w<sub>o</sub>와 w<sub>t</sub>가 다르다는 점\n",
    "  - 이 두 작은 셀은 각기 다른 기능을 위해 훈련됨. LSTM은 여기에 2개의 작은 셀이 더 추가되어 셀 상태를 만드는데 기여\n",
    "![rnn-21](./images/528-2.jpg)\n",
    "\n",
    "- 이전과 마찬가지로 입력과 은닉 상태를 각기 다른 가중치에 곱한 다음, 하나는 시그모이드 함수를 통과시키고 다른 하나는 tanh 함수를 통과 시킴\n",
    "- 두 결과를 곱한 후 이전 셀 상태와 더함. 다음 결과가 외종적인 다음 셀 상태가 됨\n",
    "- 다음 그림처럼 세 군데의 곱셈을 왼쪽부터 차례대로 삭제 게이느, 입력 게이트, 출력 게이트라고 부름\n",
    "![rnn-22](./images/529-1.jpg)\n",
    "\n",
    "- 삭제 게이트는 셀 상태에 있는 정보를 제거하는 역할을 하고 입력 게이트는 새로운 정보를 셀 상태에 추가\n",
    "- 출력 게이트를 통해 이 셀 상태가 다음 은닉 상태로 출력\n",
    "\n",
    "### LSTM 신경망 훈련하기\n",
    "- IMDB 리뷰 데이터를 로드하고 훈련, 검증 세트로 나눔"
   ]
  },
  {
   "cell_type": "code",
   "execution_count": 1,
   "id": "d566acd4-c855-4e4d-8af9-c00a2e0a4823",
   "metadata": {},
   "outputs": [
    {
     "name": "stderr",
     "output_type": "stream",
     "text": [
      "2024-01-13 20:09:17.141713: I tensorflow/core/platform/cpu_feature_guard.cc:182] This TensorFlow binary is optimized to use available CPU instructions in performance-critical operations.\n",
      "To enable the following instructions: AVX2 AVX512F AVX512_VNNI FMA, in other operations, rebuild TensorFlow with the appropriate compiler flags.\n"
     ]
    }
   ],
   "source": [
    "# 실행마다 동일한 결과를 얻기 위해 케라스에 랜덤 시드를 사용하고 텐서플로 연산을 결정적으로 만듭니다.\n",
    "import tensorflow as tf\n",
    "\n",
    "tf.keras.utils.set_random_seed(42)\n",
    "tf.config.experimental.enable_op_determinism()"
   ]
  },
  {
   "cell_type": "code",
   "execution_count": 2,
   "id": "434bf6ce-108d-440f-9a6e-8534212646b4",
   "metadata": {},
   "outputs": [],
   "source": [
    "from tensorflow.keras.datasets import imdb\n",
    "from sklearn.model_selection import train_test_split\n",
    "\n",
    "(train_input, train_target), (test_input, test_target) = imdb.load_data(\n",
    "    num_words=500)\n",
    "\n",
    "train_input, val_input, train_target, val_target = train_test_split(\n",
    "    train_input, train_target, test_size=0.2, random_state=42)"
   ]
  },
  {
   "cell_type": "markdown",
   "id": "d32e35f0-a9a8-4861-8f04-e96bc40e59ab",
   "metadata": {},
   "source": [
    "- 케라스의 pad_sequences() 함수로 각 셈플의 길이를 100에 맞추고 부족할 대는 패딩을 추가"
   ]
  },
  {
   "cell_type": "code",
   "execution_count": 3,
   "id": "04e3edb2-c747-4b06-a346-990367e71657",
   "metadata": {},
   "outputs": [],
   "source": [
    "from tensorflow.keras.preprocessing.sequence import pad_sequences\n",
    "\n",
    "train_seq = pad_sequences(train_input, maxlen=100)\n",
    "val_seq = pad_sequences(val_input, maxlen=100)"
   ]
  },
  {
   "cell_type": "markdown",
   "id": "09360c10-2a10-4573-9411-de8abc34f002",
   "metadata": {},
   "source": [
    "- LSTM의 순환층을 만들어보자\n",
    "- SimpleRNN 클래스를 LSTM 클래스로 바꾸기만 하면 됨"
   ]
  },
  {
   "cell_type": "code",
   "execution_count": 4,
   "id": "62c9f442-2f94-4add-a84b-3cb1e7cf09b7",
   "metadata": {},
   "outputs": [
    {
     "name": "stdout",
     "output_type": "stream",
     "text": [
      "Model: \"sequential\"\n",
      "_________________________________________________________________\n",
      " Layer (type)                Output Shape              Param #   \n",
      "=================================================================\n",
      " embedding (Embedding)       (None, 100, 16)           8000      \n",
      "                                                                 \n",
      " lstm (LSTM)                 (None, 8)                 800       \n",
      "                                                                 \n",
      " dense (Dense)               (None, 1)                 9         \n",
      "                                                                 \n",
      "=================================================================\n",
      "Total params: 8809 (34.41 KB)\n",
      "Trainable params: 8809 (34.41 KB)\n",
      "Non-trainable params: 0 (0.00 Byte)\n",
      "_________________________________________________________________\n"
     ]
    }
   ],
   "source": [
    "from tensorflow import keras\n",
    "\n",
    "model = keras.Sequential()\n",
    "\n",
    "model.add(keras.layers.Embedding(500, 16, input_length=100))\n",
    "model.add(keras.layers.LSTM(8))\n",
    "model.add(keras.layers.Dense(1, activation='sigmoid'))\n",
    "\n",
    "model.summary()"
   ]
  },
  {
   "cell_type": "markdown",
   "id": "3ec40e8f-3669-46bc-a589-6604d6a9b4ac",
   "metadata": {},
   "source": [
    "- 2절에서 임베딩을 사용했던 순환 신경망 모델과 동일\n",
    "- 모델 구조 출력을 확인해보면\n",
    "  - SimpleRNN 클래스의 모델 파라미터 개수는 200\n",
    "  - LSTM 셀에는 작은 셀이 4개 있으므로 정확히 4배가 늘어 모델 파라미터 개수는 800\n",
    "- 모델 컴파일 및 훈련. -> 배치 크기 64, 에포크 100으로 지정"
   ]
  },
  {
   "cell_type": "code",
   "execution_count": 5,
   "id": "ed0eefa5-b57c-42b1-bf39-7e9a0c704c06",
   "metadata": {},
   "outputs": [
    {
     "name": "stdout",
     "output_type": "stream",
     "text": [
      "Epoch 1/100\n",
      "313/313 [==============================] - 7s 19ms/step - loss: 0.6927 - accuracy: 0.5277 - val_loss: 0.6924 - val_accuracy: 0.5368\n",
      "Epoch 2/100\n",
      "  7/313 [..............................] - ETA: 5s - loss: 0.6923 - accuracy: 0.5670"
     ]
    },
    {
     "name": "stderr",
     "output_type": "stream",
     "text": [
      "/Users/jeremyshin/.pyenv/versions/3.11.3/envs/hongong/lib/python3.11/site-packages/keras/src/engine/training.py:3103: UserWarning: You are saving your model as an HDF5 file via `model.save()`. This file format is considered legacy. We recommend using instead the native Keras format, e.g. `model.save('my_model.keras')`.\n",
      "  saving_api.save_model(\n"
     ]
    },
    {
     "name": "stdout",
     "output_type": "stream",
     "text": [
      "313/313 [==============================] - 6s 18ms/step - loss: 0.6916 - accuracy: 0.5677 - val_loss: 0.6911 - val_accuracy: 0.5668\n",
      "Epoch 3/100\n",
      "313/313 [==============================] - 6s 18ms/step - loss: 0.6896 - accuracy: 0.6011 - val_loss: 0.6883 - val_accuracy: 0.6062\n",
      "Epoch 4/100\n",
      "313/313 [==============================] - 6s 18ms/step - loss: 0.6842 - accuracy: 0.6363 - val_loss: 0.6792 - val_accuracy: 0.6618\n",
      "Epoch 5/100\n",
      "313/313 [==============================] - 6s 18ms/step - loss: 0.6589 - accuracy: 0.6827 - val_loss: 0.6277 - val_accuracy: 0.7076\n",
      "Epoch 6/100\n",
      "313/313 [==============================] - 6s 18ms/step - loss: 0.6084 - accuracy: 0.7135 - val_loss: 0.5964 - val_accuracy: 0.7114\n",
      "Epoch 7/100\n",
      "313/313 [==============================] - 6s 18ms/step - loss: 0.5834 - accuracy: 0.7280 - val_loss: 0.5746 - val_accuracy: 0.7330\n",
      "Epoch 8/100\n",
      "313/313 [==============================] - 6s 18ms/step - loss: 0.5617 - accuracy: 0.7452 - val_loss: 0.5553 - val_accuracy: 0.7452\n",
      "Epoch 9/100\n",
      "313/313 [==============================] - 6s 18ms/step - loss: 0.5421 - accuracy: 0.7560 - val_loss: 0.5375 - val_accuracy: 0.7578\n",
      "Epoch 10/100\n",
      "313/313 [==============================] - 6s 18ms/step - loss: 0.5248 - accuracy: 0.7675 - val_loss: 0.5226 - val_accuracy: 0.7646\n",
      "Epoch 11/100\n",
      "313/313 [==============================] - 6s 18ms/step - loss: 0.5089 - accuracy: 0.7749 - val_loss: 0.5087 - val_accuracy: 0.7740\n",
      "Epoch 12/100\n",
      "313/313 [==============================] - 6s 18ms/step - loss: 0.4946 - accuracy: 0.7822 - val_loss: 0.4974 - val_accuracy: 0.7750\n",
      "Epoch 13/100\n",
      "313/313 [==============================] - 6s 18ms/step - loss: 0.4822 - accuracy: 0.7883 - val_loss: 0.4860 - val_accuracy: 0.7860\n",
      "Epoch 14/100\n",
      "313/313 [==============================] - 6s 18ms/step - loss: 0.4706 - accuracy: 0.7948 - val_loss: 0.4763 - val_accuracy: 0.7866\n",
      "Epoch 15/100\n",
      "313/313 [==============================] - 6s 18ms/step - loss: 0.4605 - accuracy: 0.7986 - val_loss: 0.4776 - val_accuracy: 0.7790\n",
      "Epoch 16/100\n",
      "313/313 [==============================] - 6s 18ms/step - loss: 0.4518 - accuracy: 0.8043 - val_loss: 0.4627 - val_accuracy: 0.7866\n",
      "Epoch 17/100\n",
      "313/313 [==============================] - 6s 18ms/step - loss: 0.4438 - accuracy: 0.8074 - val_loss: 0.4557 - val_accuracy: 0.7920\n",
      "Epoch 18/100\n",
      "313/313 [==============================] - 6s 18ms/step - loss: 0.4376 - accuracy: 0.8080 - val_loss: 0.4491 - val_accuracy: 0.7932\n",
      "Epoch 19/100\n",
      "313/313 [==============================] - 6s 18ms/step - loss: 0.4320 - accuracy: 0.8108 - val_loss: 0.4467 - val_accuracy: 0.7942\n",
      "Epoch 20/100\n",
      "313/313 [==============================] - 6s 18ms/step - loss: 0.4278 - accuracy: 0.8116 - val_loss: 0.4420 - val_accuracy: 0.7982\n",
      "Epoch 21/100\n",
      "313/313 [==============================] - 6s 18ms/step - loss: 0.4246 - accuracy: 0.8116 - val_loss: 0.4392 - val_accuracy: 0.7986\n",
      "Epoch 22/100\n",
      "313/313 [==============================] - 6s 18ms/step - loss: 0.4220 - accuracy: 0.8141 - val_loss: 0.4414 - val_accuracy: 0.7982\n",
      "Epoch 23/100\n",
      "313/313 [==============================] - 6s 18ms/step - loss: 0.4198 - accuracy: 0.8146 - val_loss: 0.4356 - val_accuracy: 0.8000\n",
      "Epoch 24/100\n",
      "313/313 [==============================] - 6s 18ms/step - loss: 0.4175 - accuracy: 0.8149 - val_loss: 0.4367 - val_accuracy: 0.7986\n",
      "Epoch 25/100\n",
      "313/313 [==============================] - 6s 18ms/step - loss: 0.4161 - accuracy: 0.8140 - val_loss: 0.4334 - val_accuracy: 0.8000\n",
      "Epoch 26/100\n",
      "313/313 [==============================] - 6s 18ms/step - loss: 0.4143 - accuracy: 0.8163 - val_loss: 0.4328 - val_accuracy: 0.7990\n",
      "Epoch 27/100\n",
      "313/313 [==============================] - 6s 18ms/step - loss: 0.4131 - accuracy: 0.8158 - val_loss: 0.4314 - val_accuracy: 0.8000\n",
      "Epoch 28/100\n",
      "313/313 [==============================] - 6s 18ms/step - loss: 0.4120 - accuracy: 0.8150 - val_loss: 0.4326 - val_accuracy: 0.8002\n",
      "Epoch 29/100\n",
      "313/313 [==============================] - 6s 18ms/step - loss: 0.4106 - accuracy: 0.8156 - val_loss: 0.4333 - val_accuracy: 0.8034\n",
      "Epoch 30/100\n",
      "313/313 [==============================] - 6s 18ms/step - loss: 0.4092 - accuracy: 0.8170 - val_loss: 0.4315 - val_accuracy: 0.8010\n"
     ]
    }
   ],
   "source": [
    "rmsprop = keras.optimizers.RMSprop(learning_rate=1e-4)\n",
    "model.compile(optimizer=rmsprop, loss='binary_crossentropy',\n",
    "              metrics=['accuracy'])\n",
    "\n",
    "checkpoint_cb = keras.callbacks.ModelCheckpoint('best-lstm-model.h5',\n",
    "                                                save_best_only=True)\n",
    "early_stopping_cb = keras.callbacks.EarlyStopping(patience=3,\n",
    "                                                  restore_best_weights=True)\n",
    "\n",
    "history = model.fit(train_seq, train_target, epochs=100, batch_size=64,\n",
    "                    validation_data=(val_seq, val_target),\n",
    "                    callbacks=[checkpoint_cb, early_stopping_cb])"
   ]
  },
  {
   "cell_type": "markdown",
   "id": "2e5ee62a-2ee5-4ffd-926f-ca17d53174e1",
   "metadata": {},
   "source": [
    "- 훈련 손실과 검증 손실을 그려보자"
   ]
  },
  {
   "cell_type": "code",
   "execution_count": 6,
   "id": "6d88b0a6-940f-47c1-9949-83fb374f9dd8",
   "metadata": {},
   "outputs": [
    {
     "data": {
      "image/png": "[encoded data removed]",
      "text/plain": [
       "<Figure size 640x480 with 1 Axes>"
      ]
     },
     "metadata": {},
     "output_type": "display_data"
    }
   ],
   "source": [
    "import matplotlib.pyplot as plt\n",
    "\n",
    "plt.plot(history.history['loss'])\n",
    "plt.plot(history.history['val_loss'])\n",
    "plt.xlabel('epoch')\n",
    "plt.ylabel('loss')\n",
    "plt.legend(['train', 'val'])\n",
    "plt.show()"
   ]
  },
  {
   "cell_type": "markdown",
   "id": "84b9665c-5639-49b4-bbc7-a036e8438d24",
   "metadata": {},
   "source": [
    "### 순환층에 드롭아웃 적용하기\n",
    "\n",
    "- 순환층은 자체적으로 드롭아웃 기능을 제공\n",
    "- SimpleRNN과 LSTM 클래스 모두 dropout 매개변수와 recurrent_dropout 매개변수를 가지고 있음\n",
    "- dropout 매개변수는 셀의 입력에 드롭아웃을 적용하고 recurrent_dropout은 순환되는 은닉 상태에 드롭아웃을 적용\n",
    "- 하지만 기술적인 문제로 recurruent_dropout을 사용하면 GPU를 사용하여 모델을 훈련하지 못함 -> 모델 훈련 속도가 크게 떨어짐\n",
    "- 여기서는 dropout만을 사용\n",
    "- LSTM 클래스에 dropout 매개변수 0.3을 지정하여 0.3%의 입력을 드롭 아웃"
   ]
  },
  {
   "cell_type": "code",
   "execution_count": 7,
   "id": "72e6a00f-b788-41c9-ab03-558fd09b8079",
   "metadata": {},
   "outputs": [],
   "source": [
    "model2 = keras.Sequential()\n",
    "\n",
    "model2.add(keras.layers.Embedding(500, 16, input_length=100))\n",
    "model2.add(keras.layers.LSTM(8, dropout=0.3))\n",
    "model2.add(keras.layers.Dense(1, activation='sigmoid'))"
   ]
  },
  {
   "cell_type": "code",
   "execution_count": 8,
   "id": "aa771472-c3cb-465b-b178-3031e3425061",
   "metadata": {},
   "outputs": [
    {
     "name": "stdout",
     "output_type": "stream",
     "text": [
      "Epoch 1/100\n",
      "313/313 [==============================] - 8s 20ms/step - loss: 0.6924 - accuracy: 0.5317 - val_loss: 0.6917 - val_accuracy: 0.5696\n",
      "Epoch 2/100\n",
      " 10/313 [..............................] - ETA: 5s - loss: 0.6922 - accuracy: 0.5297"
     ]
    },
    {
     "name": "stderr",
     "output_type": "stream",
     "text": [
      "/Users/jeremyshin/.pyenv/versions/3.11.3/envs/hongong/lib/python3.11/site-packages/keras/src/engine/training.py:3103: UserWarning: You are saving your model as an HDF5 file via `model.save()`. This file format is considered legacy. We recommend using instead the native Keras format, e.g. `model.save('my_model.keras')`.\n",
      "  saving_api.save_model(\n"
     ]
    },
    {
     "name": "stdout",
     "output_type": "stream",
     "text": [
      "313/313 [==============================] - 6s 19ms/step - loss: 0.6907 - accuracy: 0.5788 - val_loss: 0.6897 - val_accuracy: 0.5984\n",
      "Epoch 3/100\n",
      "313/313 [==============================] - 6s 19ms/step - loss: 0.6879 - accuracy: 0.6057 - val_loss: 0.6861 - val_accuracy: 0.6232\n",
      "Epoch 4/100\n",
      "313/313 [==============================] - 6s 19ms/step - loss: 0.6826 - accuracy: 0.6251 - val_loss: 0.6787 - val_accuracy: 0.6392\n",
      "Epoch 5/100\n",
      "313/313 [==============================] - 6s 20ms/step - loss: 0.6674 - accuracy: 0.6511 - val_loss: 0.6529 - val_accuracy: 0.6630\n",
      "Epoch 6/100\n",
      "313/313 [==============================] - 6s 19ms/step - loss: 0.6258 - accuracy: 0.6999 - val_loss: 0.6108 - val_accuracy: 0.7108\n",
      "Epoch 7/100\n",
      "313/313 [==============================] - 6s 19ms/step - loss: 0.5967 - accuracy: 0.7250 - val_loss: 0.5894 - val_accuracy: 0.7274\n",
      "Epoch 8/100\n",
      "313/313 [==============================] - 6s 19ms/step - loss: 0.5771 - accuracy: 0.7402 - val_loss: 0.5723 - val_accuracy: 0.7396\n",
      "Epoch 9/100\n",
      "313/313 [==============================] - 6s 19ms/step - loss: 0.5599 - accuracy: 0.7513 - val_loss: 0.5534 - val_accuracy: 0.7522\n",
      "Epoch 10/100\n",
      "313/313 [==============================] - 6s 20ms/step - loss: 0.5442 - accuracy: 0.7606 - val_loss: 0.5381 - val_accuracy: 0.7640\n",
      "Epoch 11/100\n",
      "313/313 [==============================] - 6s 19ms/step - loss: 0.5293 - accuracy: 0.7683 - val_loss: 0.5235 - val_accuracy: 0.7690\n",
      "Epoch 12/100\n",
      "313/313 [==============================] - 6s 19ms/step - loss: 0.5166 - accuracy: 0.7732 - val_loss: 0.5114 - val_accuracy: 0.7700\n",
      "Epoch 13/100\n",
      "313/313 [==============================] - 6s 19ms/step - loss: 0.5052 - accuracy: 0.7791 - val_loss: 0.5009 - val_accuracy: 0.7844\n",
      "Epoch 14/100\n",
      "313/313 [==============================] - 6s 19ms/step - loss: 0.4928 - accuracy: 0.7819 - val_loss: 0.4905 - val_accuracy: 0.7852\n",
      "Epoch 15/100\n",
      "313/313 [==============================] - 6s 19ms/step - loss: 0.4837 - accuracy: 0.7881 - val_loss: 0.4857 - val_accuracy: 0.7782\n",
      "Epoch 16/100\n",
      "313/313 [==============================] - 6s 19ms/step - loss: 0.4753 - accuracy: 0.7911 - val_loss: 0.4750 - val_accuracy: 0.7890\n",
      "Epoch 17/100\n",
      "313/313 [==============================] - 6s 19ms/step - loss: 0.4669 - accuracy: 0.7939 - val_loss: 0.4688 - val_accuracy: 0.7916\n",
      "Epoch 18/100\n",
      "313/313 [==============================] - 6s 19ms/step - loss: 0.4599 - accuracy: 0.7969 - val_loss: 0.4637 - val_accuracy: 0.7898\n",
      "Epoch 19/100\n",
      "313/313 [==============================] - 6s 19ms/step - loss: 0.4538 - accuracy: 0.7991 - val_loss: 0.4582 - val_accuracy: 0.7918\n",
      "Epoch 20/100\n",
      "313/313 [==============================] - 6s 19ms/step - loss: 0.4504 - accuracy: 0.7995 - val_loss: 0.4541 - val_accuracy: 0.7952\n",
      "Epoch 21/100\n",
      "313/313 [==============================] - 6s 19ms/step - loss: 0.4468 - accuracy: 0.8002 - val_loss: 0.4514 - val_accuracy: 0.7942\n",
      "Epoch 22/100\n",
      "313/313 [==============================] - 6s 19ms/step - loss: 0.4440 - accuracy: 0.8015 - val_loss: 0.4500 - val_accuracy: 0.7952\n",
      "Epoch 23/100\n",
      "313/313 [==============================] - 6s 19ms/step - loss: 0.4414 - accuracy: 0.8028 - val_loss: 0.4478 - val_accuracy: 0.7942\n",
      "Epoch 24/100\n",
      "313/313 [==============================] - 6s 19ms/step - loss: 0.4390 - accuracy: 0.8008 - val_loss: 0.4482 - val_accuracy: 0.7948\n",
      "Epoch 25/100\n",
      "313/313 [==============================] - 6s 19ms/step - loss: 0.4371 - accuracy: 0.8021 - val_loss: 0.4450 - val_accuracy: 0.7960\n",
      "Epoch 26/100\n",
      "313/313 [==============================] - 6s 19ms/step - loss: 0.4352 - accuracy: 0.8040 - val_loss: 0.4442 - val_accuracy: 0.7998\n",
      "Epoch 27/100\n",
      "313/313 [==============================] - 6s 19ms/step - loss: 0.4324 - accuracy: 0.8061 - val_loss: 0.4417 - val_accuracy: 0.7974\n",
      "Epoch 28/100\n",
      "313/313 [==============================] - 6s 19ms/step - loss: 0.4325 - accuracy: 0.8048 - val_loss: 0.4414 - val_accuracy: 0.7976\n",
      "Epoch 29/100\n",
      "313/313 [==============================] - 6s 19ms/step - loss: 0.4299 - accuracy: 0.8065 - val_loss: 0.4431 - val_accuracy: 0.7990\n",
      "Epoch 30/100\n",
      "313/313 [==============================] - 6s 19ms/step - loss: 0.4293 - accuracy: 0.8058 - val_loss: 0.4400 - val_accuracy: 0.7984\n",
      "Epoch 31/100\n",
      "313/313 [==============================] - 6s 19ms/step - loss: 0.4276 - accuracy: 0.8077 - val_loss: 0.4421 - val_accuracy: 0.7936\n",
      "Epoch 32/100\n",
      "313/313 [==============================] - 6s 19ms/step - loss: 0.4258 - accuracy: 0.8087 - val_loss: 0.4384 - val_accuracy: 0.7978\n",
      "Epoch 33/100\n",
      "313/313 [==============================] - 6s 19ms/step - loss: 0.4255 - accuracy: 0.8073 - val_loss: 0.4382 - val_accuracy: 0.8018\n",
      "Epoch 34/100\n",
      "313/313 [==============================] - 6s 19ms/step - loss: 0.4244 - accuracy: 0.8074 - val_loss: 0.4375 - val_accuracy: 0.8026\n",
      "Epoch 35/100\n",
      "313/313 [==============================] - 6s 19ms/step - loss: 0.4247 - accuracy: 0.8068 - val_loss: 0.4369 - val_accuracy: 0.8034\n",
      "Epoch 36/100\n",
      "313/313 [==============================] - 6s 19ms/step - loss: 0.4223 - accuracy: 0.8102 - val_loss: 0.4357 - val_accuracy: 0.7988\n",
      "Epoch 37/100\n",
      "313/313 [==============================] - 6s 20ms/step - loss: 0.4238 - accuracy: 0.8077 - val_loss: 0.4401 - val_accuracy: 0.8006\n",
      "Epoch 38/100\n",
      "313/313 [==============================] - 6s 19ms/step - loss: 0.4199 - accuracy: 0.8087 - val_loss: 0.4349 - val_accuracy: 0.8016\n",
      "Epoch 39/100\n",
      "313/313 [==============================] - 6s 19ms/step - loss: 0.4214 - accuracy: 0.8091 - val_loss: 0.4339 - val_accuracy: 0.8018\n",
      "Epoch 40/100\n",
      "313/313 [==============================] - 6s 19ms/step - loss: 0.4215 - accuracy: 0.8102 - val_loss: 0.4375 - val_accuracy: 0.7934\n",
      "Epoch 41/100\n",
      "313/313 [==============================] - 6s 19ms/step - loss: 0.4203 - accuracy: 0.8094 - val_loss: 0.4332 - val_accuracy: 0.8018\n",
      "Epoch 42/100\n",
      "313/313 [==============================] - 6s 19ms/step - loss: 0.4176 - accuracy: 0.8083 - val_loss: 0.4341 - val_accuracy: 0.8046\n",
      "Epoch 43/100\n",
      "313/313 [==============================] - 6s 19ms/step - loss: 0.4189 - accuracy: 0.8105 - val_loss: 0.4345 - val_accuracy: 0.7974\n",
      "Epoch 44/100\n",
      "313/313 [==============================] - 6s 20ms/step - loss: 0.4178 - accuracy: 0.8117 - val_loss: 0.4335 - val_accuracy: 0.8038\n"
     ]
    }
   ],
   "source": [
    "# 이 모델을 동일 조건으로 훈련\n",
    "rmsprop = keras.optimizers.RMSprop(learning_rate=1e-4)\n",
    "model2.compile(optimizer=rmsprop, loss='binary_crossentropy',\n",
    "               metrics=['accuracy'])\n",
    "\n",
    "checkpoint_cb = keras.callbacks.ModelCheckpoint('best-dropout-model.h5',\n",
    "                                                save_best_only=True)\n",
    "early_stopping_cb = keras.callbacks.EarlyStopping(patience=3,\n",
    "                                                  restore_best_weights=True)\n",
    "\n",
    "history = model2.fit(train_seq, train_target, epochs=100, batch_size=64,\n",
    "                     validation_data=(val_seq, val_target),\n",
    "                     callbacks=[checkpoint_cb, early_stopping_cb])"
   ]
  },
  {
   "cell_type": "markdown",
   "id": "88db255e-0c01-4c5b-a0a9-01540c8f6990",
   "metadata": {},
   "source": [
    "- 검증 손실이 약간 향상됨을 확인\n",
    "- 훈련 손실과 검증 손실 그래프를 그려보자"
   ]
  },
  {
   "cell_type": "code",
   "execution_count": null,
   "id": "cb11d290-b8e4-49e2-bee0-97b43057177f",
   "metadata": {},
   "outputs": [],
   "source": [
    "plt.plot(history.history['loss'])\n",
    "plt.plot(history.history['val_loss'])\n",
    "plt.xlabel('epoch')\n",
    "plt.ylabel('loss')\n",
    "plt.legend(['train', 'val'])\n",
    "plt.show()"
   ]
  },
  {
   "cell_type": "markdown",
   "id": "68a2023d-64cd-4ec6-8cf4-7b24c62a261b",
   "metadata": {},
   "source": [
    "- LSTM 층에 적용한 드롭아웃이 효과를 발휘한 것으로 보임\n",
    "- 훈련 손실과 검증 손실 간의 차이가 좁혀진 것을 확인\n",
    "- 밀집층이나 합성곱 층처럼 순환층도 여러 개를 쌓지 않을 이유가 없음\n",
    "\n",
    "### 2개 층을 연결하기\n",
    "- 앞쪽의 순환층이 모든 타임스텝에 대한 은닉 상태를 출력해야 함\n",
    "- 오직 마지막 순환층만 마지막 타임스텝의 은닉 상태를 출력해야 함\n",
    "\n",
    "![rnn-20](./images/rnn-535-1.jpg)\n",
    "\n",
    "- 케라스 순환층에서 모든 타임스텝의 은닉 상태를 출력하려면 마지막을 제외한 다른 모든 순환층에서 return_sequences 매개변수를 True로 지정하면 됨\n",
    "- 2개의 LSTM 층을 쌓았고 모두 드롭아웃을 0.3으로 지정할 것\n",
    "- 서머리를 확인"
   ]
  },
  {
   "cell_type": "code",
   "execution_count": 9,
   "id": "310e4ef5-aeac-4f3b-b2e3-9dcec3e0a22d",
   "metadata": {},
   "outputs": [
    {
     "name": "stdout",
     "output_type": "stream",
     "text": [
      "Model: \"sequential_2\"\n",
      "_________________________________________________________________\n",
      " Layer (type)                Output Shape              Param #   \n",
      "=================================================================\n",
      " embedding_2 (Embedding)     (None, 100, 16)           8000      \n",
      "                                                                 \n",
      " lstm_2 (LSTM)               (None, 100, 8)            800       \n",
      "                                                                 \n",
      " lstm_3 (LSTM)               (None, 8)                 544       \n",
      "                                                                 \n",
      " dense_2 (Dense)             (None, 1)                 9         \n",
      "                                                                 \n",
      "=================================================================\n",
      "Total params: 9353 (36.54 KB)\n",
      "Trainable params: 9353 (36.54 KB)\n",
      "Non-trainable params: 0 (0.00 Byte)\n",
      "_________________________________________________________________\n"
     ]
    }
   ],
   "source": [
    "model3 = keras.Sequential()\n",
    "\n",
    "model3.add(keras.layers.Embedding(500, 16, input_length=100))\n",
    "model3.add(keras.layers.LSTM(8, dropout=0.3, return_sequences=True))\n",
    "model3.add(keras.layers.LSTM(8, dropout=0.3))\n",
    "model3.add(keras.layers.Dense(1, activation='sigmoid'))\n",
    "\n",
    "model3.summary()"
   ]
  },
  {
   "cell_type": "markdown",
   "id": "a4370eb0-6a85-418d-a325-449bdaa16247",
   "metadata": {},
   "source": [
    "- 첫 번째 LSTM 층이 모든 타임스텝(100개)의 은닉 상태를 출력하기 때문에 출력 크기가 (None, 100, 8)로 표시\n",
    "- 이에 반해 두 번쨰 LSTM 층의 출력 크기는 마지막 타임스텝의 은닉 상태만 출력하기 때문에 (None, 8)임\n",
    "- 이 모델을 앞에서와 같이 훈련해봄"
   ]
  },
  {
   "cell_type": "code",
   "execution_count": 10,
   "id": "cb4e0ff8-455b-4469-96cc-1c90a3c16599",
   "metadata": {},
   "outputs": [
    {
     "name": "stdout",
     "output_type": "stream",
     "text": [
      "Epoch 1/100\n",
      "313/313 [==============================] - 14s 36ms/step - loss: 0.6929 - accuracy: 0.5168 - val_loss: 0.6927 - val_accuracy: 0.5280\n",
      "Epoch 2/100\n",
      "313/313 [==============================] - 11s 34ms/step - loss: 0.6914 - accuracy: 0.5788 - val_loss: 0.6893 - val_accuracy: 0.6228\n",
      "Epoch 3/100\n",
      "313/313 [==============================] - 11s 34ms/step - loss: 0.6750 - accuracy: 0.6473 - val_loss: 0.6432 - val_accuracy: 0.6782\n",
      "Epoch 4/100\n",
      "313/313 [==============================] - 10s 33ms/step - loss: 0.6067 - accuracy: 0.6889 - val_loss: 0.5798 - val_accuracy: 0.7046\n",
      "Epoch 5/100\n",
      "313/313 [==============================] - 11s 34ms/step - loss: 0.5611 - accuracy: 0.7233 - val_loss: 0.5406 - val_accuracy: 0.7358\n",
      "Epoch 6/100\n",
      "313/313 [==============================] - 11s 34ms/step - loss: 0.5311 - accuracy: 0.7439 - val_loss: 0.5173 - val_accuracy: 0.7542\n",
      "Epoch 7/100\n",
      "313/313 [==============================] - 11s 35ms/step - loss: 0.5142 - accuracy: 0.7568 - val_loss: 0.5006 - val_accuracy: 0.7670\n",
      "Epoch 8/100\n",
      "313/313 [==============================] - 11s 34ms/step - loss: 0.4986 - accuracy: 0.7653 - val_loss: 0.4950 - val_accuracy: 0.7680\n",
      "Epoch 9/100\n",
      "313/313 [==============================] - 11s 34ms/step - loss: 0.4860 - accuracy: 0.7739 - val_loss: 0.4806 - val_accuracy: 0.7778\n",
      "Epoch 10/100\n",
      "313/313 [==============================] - 11s 34ms/step - loss: 0.4782 - accuracy: 0.7804 - val_loss: 0.4716 - val_accuracy: 0.7838\n",
      "Epoch 11/100\n",
      "313/313 [==============================] - 11s 34ms/step - loss: 0.4717 - accuracy: 0.7793 - val_loss: 0.4670 - val_accuracy: 0.7842\n",
      "Epoch 12/100\n",
      "313/313 [==============================] - 11s 35ms/step - loss: 0.4669 - accuracy: 0.7839 - val_loss: 0.4628 - val_accuracy: 0.7850\n",
      "Epoch 13/100\n",
      "313/313 [==============================] - 11s 34ms/step - loss: 0.4599 - accuracy: 0.7875 - val_loss: 0.4589 - val_accuracy: 0.7896\n",
      "Epoch 14/100\n",
      "313/313 [==============================] - 11s 34ms/step - loss: 0.4566 - accuracy: 0.7892 - val_loss: 0.4575 - val_accuracy: 0.7864\n",
      "Epoch 15/100\n",
      "313/313 [==============================] - 11s 34ms/step - loss: 0.4520 - accuracy: 0.7928 - val_loss: 0.4676 - val_accuracy: 0.7814\n",
      "Epoch 16/100\n",
      "313/313 [==============================] - 11s 34ms/step - loss: 0.4506 - accuracy: 0.7913 - val_loss: 0.4557 - val_accuracy: 0.7878\n",
      "Epoch 17/100\n",
      "313/313 [==============================] - 11s 34ms/step - loss: 0.4492 - accuracy: 0.7930 - val_loss: 0.4538 - val_accuracy: 0.7876\n",
      "Epoch 18/100\n",
      "313/313 [==============================] - 11s 34ms/step - loss: 0.4460 - accuracy: 0.7958 - val_loss: 0.4477 - val_accuracy: 0.7942\n",
      "Epoch 19/100\n",
      "313/313 [==============================] - 11s 34ms/step - loss: 0.4446 - accuracy: 0.7962 - val_loss: 0.4477 - val_accuracy: 0.7932\n",
      "Epoch 20/100\n",
      "313/313 [==============================] - 11s 34ms/step - loss: 0.4403 - accuracy: 0.7969 - val_loss: 0.4451 - val_accuracy: 0.7952\n",
      "Epoch 21/100\n",
      "313/313 [==============================] - 11s 34ms/step - loss: 0.4405 - accuracy: 0.7970 - val_loss: 0.4439 - val_accuracy: 0.7940\n",
      "Epoch 22/100\n",
      "313/313 [==============================] - 11s 34ms/step - loss: 0.4382 - accuracy: 0.7983 - val_loss: 0.4471 - val_accuracy: 0.7950\n",
      "Epoch 23/100\n",
      "313/313 [==============================] - 11s 34ms/step - loss: 0.4367 - accuracy: 0.8008 - val_loss: 0.4430 - val_accuracy: 0.7932\n",
      "Epoch 24/100\n",
      "313/313 [==============================] - 11s 34ms/step - loss: 0.4350 - accuracy: 0.8009 - val_loss: 0.4456 - val_accuracy: 0.7908\n",
      "Epoch 25/100\n",
      "313/313 [==============================] - 11s 34ms/step - loss: 0.4353 - accuracy: 0.8008 - val_loss: 0.4414 - val_accuracy: 0.7936\n",
      "Epoch 26/100\n",
      "313/313 [==============================] - 11s 36ms/step - loss: 0.4335 - accuracy: 0.7994 - val_loss: 0.4426 - val_accuracy: 0.7892\n",
      "Epoch 27/100\n",
      "313/313 [==============================] - 11s 35ms/step - loss: 0.4313 - accuracy: 0.8015 - val_loss: 0.4407 - val_accuracy: 0.7932\n",
      "Epoch 28/100\n",
      "313/313 [==============================] - 11s 34ms/step - loss: 0.4313 - accuracy: 0.8003 - val_loss: 0.4401 - val_accuracy: 0.7932\n",
      "Epoch 29/100\n",
      "313/313 [==============================] - 11s 34ms/step - loss: 0.4312 - accuracy: 0.8038 - val_loss: 0.4453 - val_accuracy: 0.7968\n",
      "Epoch 30/100\n",
      "313/313 [==============================] - 11s 35ms/step - loss: 0.4296 - accuracy: 0.8054 - val_loss: 0.4393 - val_accuracy: 0.7938\n",
      "Epoch 31/100\n",
      "313/313 [==============================] - 11s 34ms/step - loss: 0.4296 - accuracy: 0.8038 - val_loss: 0.4470 - val_accuracy: 0.7890\n",
      "Epoch 32/100\n",
      "313/313 [==============================] - 11s 34ms/step - loss: 0.4270 - accuracy: 0.8030 - val_loss: 0.4395 - val_accuracy: 0.7910\n",
      "Epoch 33/100\n",
      "313/313 [==============================] - 11s 34ms/step - loss: 0.4283 - accuracy: 0.8027 - val_loss: 0.4434 - val_accuracy: 0.7984\n"
     ]
    }
   ],
   "source": [
    "rmsprop = keras.optimizers.RMSprop(learning_rate=1e-4)\n",
    "model3.compile(optimizer=rmsprop, loss='binary_crossentropy',\n",
    "               metrics=['accuracy'])\n",
    "\n",
    "checkpoint_cb = keras.callbacks.ModelCheckpoint('best-2rnn-model.h5',\n",
    "                                                save_best_only=True)\n",
    "early_stopping_cb = keras.callbacks.EarlyStopping(patience=3,\n",
    "                                                  restore_best_weights=True)\n",
    "\n",
    "history = model3.fit(train_seq, train_target, epochs=100, batch_size=64,\n",
    "                     validation_data=(val_seq, val_target),\n",
    "                     callbacks=[checkpoint_cb, early_stopping_cb])"
   ]
  },
  {
   "cell_type": "markdown",
   "id": "f9841bb4-c377-427a-9586-bc1106ac1650",
   "metadata": {},
   "source": [
    "- 모델 훈련이 잘 된 것을 확인. 일반적으로 순환층을 쌓으면 성능이 높아짐\n",
    "- 이 예에서는 큰 효과가 나지 않음. 손실 그래프를 그려서 과대적합이 잘 제어되었는지 확인해보자"
   ]
  },
  {
   "cell_type": "code",
   "execution_count": 11,
   "id": "175b64a8-74ca-4109-a6bd-a8a31d323203",
   "metadata": {},
   "outputs": [
    {
     "data": {
      "image/png": "[encoded data removed]",
      "text/plain": [
       "<Figure size 640x480 with 1 Axes>"
      ]
     },
     "metadata": {},
     "output_type": "display_data"
    }
   ],
   "source": [
    "plt.plot(history.history['loss'])\n",
    "plt.plot(history.history['val_loss'])\n",
    "plt.xlabel('epoch')\n",
    "plt.ylabel('loss')\n",
    "plt.legend(['train', 'val'])\n",
    "plt.show()"
   ]
  },
  {
   "cell_type": "markdown",
   "id": "8568b25e-f1e9-4cfd-b4ce-2fc307990720",
   "metadata": {},
   "source": [
    "- 그래프로는 과대적합을 제어하며 손실을 최대한 낮춘 것 같음\n",
    "- 이제 GRU 셀에 대해 알아보자\n",
    "\n",
    "### GRU 구조\n",
    "- Gated Recurrent Unit의 약자\n",
    "- LSTM의 간소화 버전이라고 생각 할 수 있음\n",
    "- 이 셀은 은닉 상태 하나만 포함하고 있음\n",
    "![rnn-21](./images/rnn-538-1.jpg)\n",
    "\n",
    "- GRU 셀에는 은닉 상태와 입력에 가중치를 곱하고 절편을 더하는 작은 셀이 3개 들어있음\n",
    "- 2개는 시그모이드 화렁화 함수를 사용하고 하나는 tanh 활성화 함수 사용\n",
    "  - 여기에서도 은닉 상태와 입력에 곱해지는 가중치를 합쳐서 나타냄\n",
    "- 맨 왼쪽에서 W<sub>z</sub>를 사용하는 셀의 출력이 은닉 상태에 바로 곱해져 삭제 게이트 역할을 수행\n",
    "- 이와 똑같은 출력을 1에서 뺀 다음 가장 오른쪽 w<sub>g</sub>를 사용하은 셀의 출력을 곱함\n",
    "  - 이는 입력 되는 정보를 제어하는 역할을 수행\n",
    "  - 가운데 W<sub>r</sub>을 사용하는 셀에서 출력된 값은 w<sub>g</sub>를 사용하는 셀의 출력에 곱함\n",
    "  - 이는 입력되는 정보를 제어하는 역할 수행\n",
    "  - 가운데 w<sub>\u001d",
    "r</sub>을 사용하는 셀에서 출력된 값은 w<sub>g</sub> 셀이 사용하는 은닉 상태의 정보를 제어함\n",
    "- GRU 셀은 LSTM보다 가중치가 적기 때문에 계산량이 적지만 LSTM 못지않은 좋은 성능을 냄\n",
    "\n",
    "### GRU 신경망 훈련하기"
   ]
  },
  {
   "cell_type": "code",
   "execution_count": 12,
   "id": "74f76dea-e3b3-4d3f-9d1f-2d2ac88c895c",
   "metadata": {},
   "outputs": [
    {
     "name": "stdout",
     "output_type": "stream",
     "text": [
      "Model: \"sequential_3\"\n",
      "_________________________________________________________________\n",
      " Layer (type)                Output Shape              Param #   \n",
      "=================================================================\n",
      " embedding_3 (Embedding)     (None, 100, 16)           8000      \n",
      "                                                                 \n",
      " gru (GRU)                   (None, 8)                 624       \n",
      "                                                                 \n",
      " dense_3 (Dense)             (None, 1)                 9         \n",
      "                                                                 \n",
      "=================================================================\n",
      "Total params: 8633 (33.72 KB)\n",
      "Trainable params: 8633 (33.72 KB)\n",
      "Non-trainable params: 0 (0.00 Byte)\n",
      "_________________________________________________________________\n"
     ]
    }
   ],
   "source": [
    "model4 = keras.Sequential()\n",
    "\n",
    "model4.add(keras.layers.Embedding(500, 16, input_length=100))\n",
    "model4.add(keras.layers.GRU(8))\n",
    "model4.add(keras.layers.Dense(1, activation='sigmoid'))\n",
    "\n",
    "model4.summary()"
   ]
  },
  {
   "cell_type": "markdown",
   "id": "6eadfbef-6abd-43f1-bad8-ad2cf6162a1e",
   "metadata": {},
   "source": [
    "- GRU 층 모델 파라미터 개수 계산\n",
    "  - 셀에는 3개의 작은 셀이 있음\n",
    "  - 작은 셀에는 입력과 은닉 상태에 곱하는 가중치와 절편이 있음\n",
    "  - 입력에 곱하는 가중치는  16 X 8 = 128개, 은닉 상태에 곱하는 가중치는 8 X 8 = 64개\n",
    "  - 절편은 뉴런마다 하나씩이므로 8개\n",
    "  - 모두 더하면 200개\n",
    "  - 이런 작은 셀이 3개이므로 모두 600개의 모델 파라미터가 필요\n",
    "  - 하지만 서머리의 메서드 출력은 624개임\n",
    "  - 차이점을 알아보자\n",
    "- 텐서플로에 기본적으로 구현된 GRU 셀의 계산은 앞의 그림과 조금 다름\n",
    "  - GRU 셀의 초기 버전은 다음 그림과 같이 계산됨\n",
    "    ![rnn-22](./images/rnn-540-1.jpg)\n",
    "\n",
    "  - 달라지는 부분은 G로 표시된 작은 셀에 들어가는 입력 부분\n",
    "  - 이전에는 가운데 셀의 출려과 은닉 상태가 곱해진 후 G 셀에 입력\n",
    "  - 하지만 바뀐 그림에서는 은닉 상태가 먼저 가중치와 곱해진 다음 가운데 셀의 출력과 곱해짐\n",
    "  - 그래서 이전에는 입력과 은닉 상태에 곱해지는 가중치를 w<sub>g</sub>로 별도 표기했는데 이 그림에서는 w<sub>\bx</sub>와 w<sub>h</sub>로 나눔\n",
    "  - 이렇게 나누어 계산하면 은닉 상태에 곱해지는 가중치 외에 절편이 별도로 필요\n",
    "  - 작은 셀마다 하나씩 절편이 추가되고 8개의 뉴런이 있으므로 총 24개 모델 파라미터가 더해짐\n",
    "  - 따라서 GRU 층의 총 모델 파라미터 개수는 624개가 됨\n",
    "- 텐서플로가 이런 계산 방식을 사용하는 이유는 GPU를 잘 활욯기 위함이지만 대부분 GRU 셀을 소개할 때는 전자의 그림을 사용.\n",
    "- 널리 통용되는 이론과 구현이 차이나는 경우가 종종 있으므로 GRU 층의 모델 파라미터 개수를 혼동하지 말 것!\n",
    "- 이제 GRU 셀을 사용한 순환 신경망을 사용해보자"
   ]
  },
  {
   "cell_type": "code",
   "execution_count": 13,
   "id": "55bd8e0c-f304-4fe5-9d5f-d3edd498efa4",
   "metadata": {},
   "outputs": [
    {
     "name": "stdout",
     "output_type": "stream",
     "text": [
      "Epoch 1/100\n",
      "313/313 [==============================] - 8s 21ms/step - loss: 0.6920 - accuracy: 0.5486 - val_loss: 0.6912 - val_accuracy: 0.5724\n",
      "Epoch 2/100\n",
      "313/313 [==============================] - 6s 20ms/step - loss: 0.6898 - accuracy: 0.5790 - val_loss: 0.6889 - val_accuracy: 0.5830\n",
      "Epoch 3/100\n",
      "313/313 [==============================] - 6s 20ms/step - loss: 0.6865 - accuracy: 0.5975 - val_loss: 0.6852 - val_accuracy: 0.5958\n",
      "Epoch 4/100\n",
      "313/313 [==============================] - 6s 20ms/step - loss: 0.6813 - accuracy: 0.6107 - val_loss: 0.6792 - val_accuracy: 0.5994\n",
      "Epoch 5/100\n",
      "313/313 [==============================] - 6s 20ms/step - loss: 0.6732 - accuracy: 0.6204 - val_loss: 0.6701 - val_accuracy: 0.6134\n",
      "Epoch 6/100\n",
      "313/313 [==============================] - 6s 20ms/step - loss: 0.6608 - accuracy: 0.6387 - val_loss: 0.6556 - val_accuracy: 0.6302\n",
      "Epoch 7/100\n",
      "313/313 [==============================] - 6s 20ms/step - loss: 0.6404 - accuracy: 0.6581 - val_loss: 0.6304 - val_accuracy: 0.6640\n",
      "Epoch 8/100\n",
      "313/313 [==============================] - 6s 19ms/step - loss: 0.6019 - accuracy: 0.6898 - val_loss: 0.5781 - val_accuracy: 0.7058\n",
      "Epoch 9/100\n",
      "313/313 [==============================] - 6s 19ms/step - loss: 0.5315 - accuracy: 0.7373 - val_loss: 0.5158 - val_accuracy: 0.7470\n",
      "Epoch 10/100\n",
      "313/313 [==============================] - 6s 21ms/step - loss: 0.4969 - accuracy: 0.7618 - val_loss: 0.4963 - val_accuracy: 0.7624\n",
      "Epoch 11/100\n",
      "313/313 [==============================] - 6s 20ms/step - loss: 0.4798 - accuracy: 0.7743 - val_loss: 0.4828 - val_accuracy: 0.7722\n",
      "Epoch 12/100\n",
      "313/313 [==============================] - 6s 20ms/step - loss: 0.4667 - accuracy: 0.7823 - val_loss: 0.4724 - val_accuracy: 0.7772\n",
      "Epoch 13/100\n",
      "313/313 [==============================] - 6s 20ms/step - loss: 0.4567 - accuracy: 0.7879 - val_loss: 0.4655 - val_accuracy: 0.7826\n",
      "Epoch 14/100\n",
      "313/313 [==============================] - 6s 20ms/step - loss: 0.4485 - accuracy: 0.7962 - val_loss: 0.4589 - val_accuracy: 0.7856\n",
      "Epoch 15/100\n",
      "313/313 [==============================] - 6s 21ms/step - loss: 0.4425 - accuracy: 0.7997 - val_loss: 0.4651 - val_accuracy: 0.7866\n",
      "Epoch 16/100\n",
      "313/313 [==============================] - 6s 20ms/step - loss: 0.4375 - accuracy: 0.8038 - val_loss: 0.4533 - val_accuracy: 0.7942\n",
      "Epoch 17/100\n",
      "313/313 [==============================] - 6s 20ms/step - loss: 0.4331 - accuracy: 0.8059 - val_loss: 0.4504 - val_accuracy: 0.7922\n",
      "Epoch 18/100\n",
      "313/313 [==============================] - 6s 20ms/step - loss: 0.4300 - accuracy: 0.8080 - val_loss: 0.4471 - val_accuracy: 0.7930\n",
      "Epoch 19/100\n",
      "313/313 [==============================] - 6s 20ms/step - loss: 0.4270 - accuracy: 0.8095 - val_loss: 0.4477 - val_accuracy: 0.7920\n",
      "Epoch 20/100\n",
      "313/313 [==============================] - 6s 20ms/step - loss: 0.4246 - accuracy: 0.8117 - val_loss: 0.4448 - val_accuracy: 0.7942\n",
      "Epoch 21/100\n",
      "313/313 [==============================] - 6s 20ms/step - loss: 0.4231 - accuracy: 0.8102 - val_loss: 0.4453 - val_accuracy: 0.7912\n",
      "Epoch 22/100\n",
      "313/313 [==============================] - 6s 20ms/step - loss: 0.4215 - accuracy: 0.8124 - val_loss: 0.4476 - val_accuracy: 0.7946\n",
      "Epoch 23/100\n",
      "313/313 [==============================] - 6s 20ms/step - loss: 0.4201 - accuracy: 0.8131 - val_loss: 0.4430 - val_accuracy: 0.7964\n",
      "Epoch 24/100\n",
      "313/313 [==============================] - 6s 20ms/step - loss: 0.4187 - accuracy: 0.8145 - val_loss: 0.4433 - val_accuracy: 0.7908\n",
      "Epoch 25/100\n",
      "313/313 [==============================] - 6s 20ms/step - loss: 0.4181 - accuracy: 0.8130 - val_loss: 0.4419 - val_accuracy: 0.7932\n",
      "Epoch 26/100\n",
      "313/313 [==============================] - 6s 20ms/step - loss: 0.4168 - accuracy: 0.8151 - val_loss: 0.4433 - val_accuracy: 0.7934\n",
      "Epoch 27/100\n",
      "313/313 [==============================] - 6s 20ms/step - loss: 0.4162 - accuracy: 0.8148 - val_loss: 0.4412 - val_accuracy: 0.7930\n",
      "Epoch 28/100\n",
      "313/313 [==============================] - 6s 20ms/step - loss: 0.4157 - accuracy: 0.8142 - val_loss: 0.4418 - val_accuracy: 0.7916\n",
      "Epoch 29/100\n",
      "313/313 [==============================] - 6s 20ms/step - loss: 0.4148 - accuracy: 0.8148 - val_loss: 0.4455 - val_accuracy: 0.7964\n",
      "Epoch 30/100\n",
      "313/313 [==============================] - 6s 20ms/step - loss: 0.4136 - accuracy: 0.8165 - val_loss: 0.4423 - val_accuracy: 0.7914\n"
     ]
    }
   ],
   "source": [
    "rmsprop = keras.optimizers.RMSprop(learning_rate=1e-4)\n",
    "model4.compile(optimizer=rmsprop, loss='binary_crossentropy',\n",
    "               metrics=['accuracy'])\n",
    "\n",
    "checkpoint_cb = keras.callbacks.ModelCheckpoint('best-gru-model.h5',\n",
    "                                                save_best_only=True)\n",
    "early_stopping_cb = keras.callbacks.EarlyStopping(patience=3,\n",
    "                                                  restore_best_weights=True)\n",
    "\n",
    "history = model4.fit(train_seq, train_target, epochs=100, batch_size=64,\n",
    "                     validation_data=(val_seq, val_target),\n",
    "                     callbacks=[checkpoint_cb, early_stopping_cb])"
   ]
  },
  {
   "cell_type": "markdown",
   "id": "e50a4f8c-3795-42f7-b7fd-db5158b1b47f",
   "metadata": {},
   "source": [
    "- 출력 결과에서 볼 수 있듯이 LSTM와 거의 비슷한 성능이 남\n",
    "- 이 모델의 손실을 그래프로 그려서 확인해보자"
   ]
  },
  {
   "cell_type": "code",
   "execution_count": 15,
   "id": "94828bd8-a957-440e-8823-033a785e87a6",
   "metadata": {},
   "outputs": [
    {
     "data": {
      "image/png": "[encoded data removed]",
      "text/plain": [
       "<Figure size 640x480 with 1 Axes>"
      ]
     },
     "metadata": {},
     "output_type": "display_data"
    }
   ],
   "source": [
    "plt.plot(history.history['loss'])\n",
    "plt.plot(history.history['val_loss'])\n",
    "plt.xlabel('epoch')\n",
    "plt.ylabel('loss')\n",
    "plt.legend(['train', 'val'])\n",
    "plt.show()"
   ]
  },
  {
   "cell_type": "markdown",
   "id": "3a400ebf-753e-45c8-a43f-4a02facf8b89",
   "metadata": {},
   "source": [
    "- 드롭아웃을 사용하지 않았기 때문에 이전보다 훈련 손실과 검증 솔시 ㄹ사이에 차이가 있음\n",
    "- 훈련 과정이 잘 수렴되고 있는 것을 확인할 수 있음\n",
    "\n",
    "### 마무리\n",
    "- 이제 가장 좋았던 2개의 순환층을 쌓은 모델을 다시 로드하여 테스트 세트에 대한 성능을 확인해보자\n",
    "- 먼저 테스트 세트를 훈련 세트와 동일한 방식으로 변환\n",
    "- load_model() 함수를 사용해 best-2rnn-model.h5 파일을 읽고 evaluate() 메서드로 테스트 세트에서 성능을 계산"
   ]
  },
  {
   "cell_type": "code",
   "execution_count": 14,
   "id": "8557519d-ffdc-4815-b0b9-9bb3e05bda6e",
   "metadata": {},
   "outputs": [
    {
     "name": "stdout",
     "output_type": "stream",
     "text": [
      "782/782 [==============================] - 7s 8ms/step - loss: 0.4346 - accuracy: 0.7975\n"
     ]
    },
    {
     "data": {
      "text/plain": [
       "[0.434622585773468, 0.7974799871444702]"
      ]
     },
     "execution_count": 14,
     "metadata": {},
     "output_type": "execute_result"
    }
   ],
   "source": [
    "test_seq = pad_sequences(test_input, maxlen=100)\n",
    "\n",
    "rnn_model = keras.models.load_model('best-2rnn-model.h5')\n",
    "\n",
    "rnn_model.evaluate(test_seq, test_target)"
   ]
  },
  {
   "cell_type": "markdown",
   "id": "7bbade0b-0476-4fbb-8350-f08655d84388",
   "metadata": {},
   "source": [
    "- 이 모델은 드롭아웃을 적용하여 과대적합을 잘 억제했기 때문에 테스트 세트의 성능이 검증 세트와 크게 차이 나지 않음"
   ]
  }
 ],
 "metadata": {
  "kernelspec": {
   "display_name": "Python 3 (ipykernel)",
   "language": "python",
   "name": "python3"
  },
  "language_info": {
   "codemirror_mode": {
    "name": "ipython",
    "version": 3
   },
   "file_extension": ".py",
   "mimetype": "text/x-python",
   "name": "python",
   "nbconvert_exporter": "python",
   "pygments_lexer": "ipython3",
   "version": "3.11.3"
  }
 },
 "nbformat": 4,
 "nbformat_minor": 5
}
