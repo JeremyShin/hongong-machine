{
 "cells": [
  {
   "cell_type": "markdown",
   "id": "d669841e-eaac-42b8-9f7b-49205b5ce4f3",
   "metadata": {},
   "source": [
    "# 08-1 합성곱 신경망의 구성 요소\n",
    "##### 합성곱 신경망을 구성하는 기본 개념과 동작 원리를 배우고 간단한 합성곱, 풀링 계산 방법을 배움\n",
    "\n",
    "- 앞서 로지스틱 회귀 성능은 81% 정도였는데 딥러닝 성능은 87% 정도로 향상됨\n",
    "- 성능 향상을 위한 합성곱 기법을 배움\n",
    "\n",
    "### 합성곱\n",
    "- 합성곱(convolution) : 입력 데이터에 유용한 특성만 저장\n",
    "- 7장에서 사용한 밀집층은 뉴런마다 입력 개수만큼의 가중치가 있음. 그림으로 확인해보자\n",
    "![가중치](./images/convolution-423-1.jpg)\n",
    "\n",
    "- 인공 신경망은 가중치 w<sub>1</sub>~w<sub>10</sub>과 절편 b를 랜덤하게 초기화 한 후 다음 에포크를 반복하며 경사 하강법 알고리즘을 사용하여 손실이 낮아지도록 최적의 가중치와 절편을 찾아감\n",
    "- 합성곱은 밀집층의 계산과 조금 다름\n",
    "  - 입력 데이터 전체가 아닌 일부에 가중치를 곱함\n",
    "  - 이 뉴런이 3개의 가중치를 가진다고 가정하고 아래의 이미지 확인\n",
    "![합성곱설명-1](./images/convolution-424-1.jpg)\n",
    "- 가중치 w<sub>1</sub>~w<sub>3</sub>이 입력의 처음 3개 특성과 곱해져 1개 출력을 만듦\n",
    "- 이 뉴런이 한 칸 아래로 이동해 두 번째부터 네 번째 특성과 곱해져 새로운 출력을 만듦\n",
    "![합성곱설명-2](./images/convolution-424-2.jpg)\n",
    "- 여기에서 중요한 것은 첫 번쨰 합성곱에 사용된 가중치 w<sub>1</sub>~w<sub>3</sub>과 절편 b가 두 번째 합성곱에도 동일하게 사용\n",
    "- 한 칸씩 이동하면서 출력을 만드는 것이 합성곱\n",
    "- 여기서는 뉴런 가중치가 3개이기 때문에 총 8개의 출력이 만들어짐\n",
    "\n",
    "![합성곱설명-3](./images/convolution-425-1.jpg)\n",
    "\n",
    "- 색은 다르지만 모두 같은 가중치 w<sub>1</sub>~w<sub>3</sub>와 절편 b를 사용\n",
    "- 합성곱 층의 뉴런에 있는 가중치 개수는 정하기 나름 -> 하이퍼파라미터\n",
    "- 신경망 층의 그림은 뉴런이 길게 늘어서 있고 서로 조밀하게 연결 -> 합성곱에서는 뉴런이 입력 위를 이동하며 출력을 만듦\n",
    "- 합성곱 신경망(CNN, convolutional neural network)에서는 완전 연결 신경망과 달리 뉴런을 필터(filter) 혹은 커널(kernel)이라고 부름\n",
    "\n",
    "- 케라스에서는 아래와 같이 명명함\n",
    "  - 필터 : 뉴런 개수\n",
    "  - 커널 : 입력에 곱해지는 가중치\n",
    "- 합성곱의 장점은 1차원이 아니라 2차원 입력에도 적용할 수 있다는 것\n",
    "![합성곱설명-4](./images/convolution-426-1.jpg)\n",
    "- 입력이 2차원 배열이면 필터도 2차원\n",
    "- 위 그림에서 필터의 커널 크기는 (3,3)으로 가정 => 하이퍼파라미터이기 때문\n",
    "- 왼쪽 위 모서리부터 합성곱 시작, 입력의 9개 원소와 커널의 9개 가중치를 곱한 후 절편을 더해 1개의 출력을 만듦\n",
    "![합성곱설명-5](./images/convolution-426-2.jpg)\n",
    "- 필터가 한칸씩 이동하며 합성곱을 수행\n",
    "- 합성곱은 마치 도장을 찍듯이 왼쪽에서 오른쪽 맨 아래까지 이동하면서 출력을 만듦\n",
    "- 계산식은 밀집층과 비슷 기림에서의 필터는 4번 이동하므로 4개의 출력을 만듦\n",
    "![합성곱설명-6](./images/convolution-427-1.jpg)\n",
    "- 4개의 출력을 필터가 입력에 놓인 위치에 맞게 2차원으로 배치\n",
    "- 왼쪽 위, 오른쪽 위, 왼쪽 아래, 오른쪽 아래 모두 4개의 위치에 해당 값을 놓음 -> (4,4) 크기의 입력을 (2,2)로 압축\n",
    "- 특성 맵(feature map) : 합성곱 계산을 통해 얻은 출력\n",
    "- 밀집층에서 여러 개의 뉴런을 사용하듯이 합성곱 층에서 여러 개의 필터르를 사용\n",
    "- (2,2) 크기의 특성 맵을 쌓으면 3차원 배열이 됨\n",
    "- 아래 그림에서 (2, 2, 3)의 3차원 배열을 소개함\n",
    "![합성곱설명-6](./images/convolution-428-1.jpg)\n",
    "- 밀집층에 있는 뉴런 가중치가 모두 다르듯이 합성곱 층에 있는 필터 가중치(커널)도 모두 다름 -> 같은 가중치를 가진 필터를 여러 개 사용할 필요 없음\n",
    "\n",
    "### 케라스 합성곱 층\n",
    "- 합성곱 층도 keras.laysers 패키지 아래 있음\n",
    "- 입력 위를 이동하는 합성곱은 Conv2D 클래스로 제공"
   ]
  },
  {
   "cell_type": "code",
   "execution_count": 1,
   "id": "711dcbdc-321b-4a7b-895f-e26e59d3a843",
   "metadata": {},
   "outputs": [
    {
     "name": "stderr",
     "output_type": "stream",
     "text": [
      "2023-12-30 21:11:31.714009: I tensorflow/core/platform/cpu_feature_guard.cc:182] This TensorFlow binary is optimized to use available CPU instructions in performance-critical operations.\n",
      "To enable the following instructions: AVX2 AVX512F AVX512_VNNI FMA, in other operations, rebuild TensorFlow with the appropriate compiler flags.\n"
     ]
    },
    {
     "data": {
      "text/plain": [
       "<keras.src.layers.convolutional.conv2d.Conv2D at 0x1343cec10>"
      ]
     },
     "execution_count": 1,
     "metadata": {},
     "output_type": "execute_result"
    }
   ],
   "source": [
    "from tensorflow import keras\n",
    "keras.layers.Conv2D(10, kernel_size=(3,3), activation='relu')"
   ]
  },
  {
   "cell_type": "markdown",
   "id": "c933b572-f0e5-42dc-965e-701ea27c3c7f",
   "metadata": {},
   "source": [
    "- Conv2D 클래스의 첫 번째 매개변수는 필터의 개수임\n",
    "- kernel_size 매개변수는 필터에 사용할 커널의 크기를 지정\n",
    "  - 필터 개수와 커널 크기는 반드시 지정해야 하는 매개변수\n",
    "- 활성화 함수를 지정 (여기서는 렐루 함수 서낵)\n",
    "- 합성곱 신경망의 정의\n",
    "  - 1개 이상의 합성곱 층을 사용한 인공 신경망\n",
    "\n",
    "### 패딩과 스트라이드\n",
    "- 앞의 예제와 달리 커널 크기는 (3,3)으로 두고 출력의 크기를 입력과 동일할게 (4,4)로 만들려면 어떻게 해야할까?\n"
   ]
  }
 ],
 "metadata": {
  "kernelspec": {
   "display_name": "Python 3 (ipykernel)",
   "language": "python",
   "name": "python3"
  },
  "language_info": {
   "codemirror_mode": {
    "name": "ipython",
    "version": 3
   },
   "file_extension": ".py",
   "mimetype": "text/x-python",
   "name": "python",
   "nbconvert_exporter": "python",
   "pygments_lexer": "ipython3",
   "version": "3.11.3"
  }
 },
 "nbformat": 4,
 "nbformat_minor": 5
}
